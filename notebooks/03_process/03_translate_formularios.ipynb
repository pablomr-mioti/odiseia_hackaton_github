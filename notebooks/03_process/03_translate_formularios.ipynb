{
 "cells": [
  {
   "cell_type": "code",
   "execution_count": 1,
   "metadata": {},
   "outputs": [
    {
     "name": "stderr",
     "output_type": "stream",
     "text": [
      "C:\\Users\\edgarmp\\AppData\\Local\\Temp\\ipykernel_26168\\2045030555.py:10: TqdmWarning: IProgress not found. Please update jupyter and ipywidgets. See https://ipywidgets.readthedocs.io/en/stable/user_install.html\n",
      "  from tqdm.autonotebook import tqdm\n"
     ]
    }
   ],
   "source": [
    "%load_ext autoreload\n",
    "%autoreload 2\n",
    "\n",
    "import os\n",
    "import sys\n",
    "from pprint import pprint\n",
    "from dotenv import load_dotenv\n",
    "import pathlib\n",
    "# from tqdm import tqdm\n",
    "from tqdm.autonotebook import tqdm\n",
    "from pathlib import Path\n",
    "from pprint import pprint\n",
    "import hashlib\n",
    "import random\n",
    "\n",
    "import polars as pl\n",
    "from glob import glob\n",
    "\n",
    "from thefuzz import process\n",
    "\n",
    "from openai import OpenAI\n",
    "from pinecone import Pinecone\n",
    "from langchain_openai import OpenAIEmbeddings\n",
    "\n",
    "from google import genai\n",
    "from google.genai import types\n",
    "from langchain_openai import ChatOpenAI\n",
    "\n",
    "import PIL.Image\n",
    "import pymupdf\n",
    "\n",
    "\n",
    "root_dir = Path(os.getcwd()).parent.parent\n",
    "sys.path.insert(0, str(root_dir))\n",
    "\n",
    "pl.Config.set_fmt_str_lengths(300)\n",
    "pl.Config.set_tbl_rows(100)\n",
    "pl.Config.set_tbl_cols(20);"
   ]
  },
  {
   "cell_type": "code",
   "execution_count": 2,
   "metadata": {},
   "outputs": [],
   "source": [
    "from src.d01_data.data import (read_json, json_dump, pdf_to_images, save_text_to_file)\n",
    "from src.d00_utils.utils import(remove_duplicates, campos_to_srt,\n",
    "                                get_doc_id_data,\n",
    "                                campos_text_dict, normalize_string,\n",
    "                                extract_section_names, match_words,\n",
    "                                remove_number_parenthesis_space,\n",
    "                                clean_translation, filter_rectangles_by_area)\n",
    "\n",
    "\n",
    "\n",
    "from src.d03_modeling.modeling import get_imputation_campos, get_imputation_seleccion, translate\n",
    "load_dotenv('../../.env')\n",
    " \n",
    "raw_path = root_dir / 'data' / '01_raw'\n",
    "intermediate_path = root_dir / 'data' / '02_intermediate'\n",
    "clean_path = root_dir / 'data' / '03_clean'\n",
    "output_path = root_dir / 'data' / '04_model_output'"
   ]
  },
  {
   "cell_type": "code",
   "execution_count": 3,
   "metadata": {},
   "outputs": [],
   "source": [
    "OPENAI_API_KEY = os.getenv('OPENAI_API_KEY')\n",
    "OPENAI_MODEL = os.getenv('OPENAI_MODEL')\n",
    "GEMINI_API_KEY = os.getenv('GEMINI_API_KEY')\n",
    "GEMINI_MODEL = os.getenv('GEMINI_MODEL')\n",
    "\n",
    "client = genai.Client(api_key=GEMINI_API_KEY)"
   ]
  },
  {
   "cell_type": "code",
   "execution_count": 4,
   "metadata": {},
   "outputs": [],
   "source": [
    "idiomas = ['ingles', 'frances', 'aleman', 'ucraniano', 'arabe', 'chino_mandarin']\n",
    "formularios = [Path(p) for p in sorted(glob(str(intermediate_path / 'formularios' / 'español' /'*/')))]"
   ]
  },
  {
   "cell_type": "code",
   "execution_count": 5,
   "metadata": {},
   "outputs": [
    {
     "name": "stderr",
     "output_type": "stream",
     "text": [
      "  0%|          | 0/2 [00:00<?, ?it/s]"
     ]
    },
    {
     "name": "stdout",
     "output_type": "stream",
     "text": [
      "Traduciendo el pdf EX-10_0_español.pdf al idioma ingles\n",
      "Archivo guardado exitosamente como c:\\Users\\edgarmp\\Desktop\\Proyectos\\ODIASEIA hackaton\\data\\03_clean\\formularios\\traducciones\\ingles\\EX-10\\EX-10_0_ingles.json\n",
      "Traduciendo el pdf EX-10_1_español.pdf al idioma ingles\n",
      "Archivo guardado exitosamente como c:\\Users\\edgarmp\\Desktop\\Proyectos\\ODIASEIA hackaton\\data\\03_clean\\formularios\\traducciones\\ingles\\EX-10\\EX-10_1_ingles.json\n",
      "Traduciendo el pdf EX-10_0_español.pdf al idioma frances\n",
      "Archivo guardado exitosamente como c:\\Users\\edgarmp\\Desktop\\Proyectos\\ODIASEIA hackaton\\data\\03_clean\\formularios\\traducciones\\frances\\EX-10\\EX-10_0_frances.json\n",
      "Traduciendo el pdf EX-10_1_español.pdf al idioma frances\n",
      "Archivo guardado exitosamente como c:\\Users\\edgarmp\\Desktop\\Proyectos\\ODIASEIA hackaton\\data\\03_clean\\formularios\\traducciones\\frances\\EX-10\\EX-10_1_frances.json\n",
      "Traduciendo el pdf EX-10_0_español.pdf al idioma aleman\n",
      "Archivo guardado exitosamente como c:\\Users\\edgarmp\\Desktop\\Proyectos\\ODIASEIA hackaton\\data\\03_clean\\formularios\\traducciones\\aleman\\EX-10\\EX-10_0_aleman.json\n",
      "Traduciendo el pdf EX-10_1_español.pdf al idioma aleman\n",
      "Archivo guardado exitosamente como c:\\Users\\edgarmp\\Desktop\\Proyectos\\ODIASEIA hackaton\\data\\03_clean\\formularios\\traducciones\\aleman\\EX-10\\EX-10_1_aleman.json\n",
      "Traduciendo el pdf EX-10_0_español.pdf al idioma ucraniano\n",
      "Archivo guardado exitosamente como c:\\Users\\edgarmp\\Desktop\\Proyectos\\ODIASEIA hackaton\\data\\03_clean\\formularios\\traducciones\\ucraniano\\EX-10\\EX-10_0_ucraniano.json\n",
      "Traduciendo el pdf EX-10_1_español.pdf al idioma ucraniano\n",
      "Archivo guardado exitosamente como c:\\Users\\edgarmp\\Desktop\\Proyectos\\ODIASEIA hackaton\\data\\03_clean\\formularios\\traducciones\\ucraniano\\EX-10\\EX-10_1_ucraniano.json\n",
      "Traduciendo el pdf EX-10_0_español.pdf al idioma arabe\n",
      "Archivo guardado exitosamente como c:\\Users\\edgarmp\\Desktop\\Proyectos\\ODIASEIA hackaton\\data\\03_clean\\formularios\\traducciones\\arabe\\EX-10\\EX-10_0_arabe.json\n",
      "Traduciendo el pdf EX-10_1_español.pdf al idioma arabe\n",
      "Archivo guardado exitosamente como c:\\Users\\edgarmp\\Desktop\\Proyectos\\ODIASEIA hackaton\\data\\03_clean\\formularios\\traducciones\\arabe\\EX-10\\EX-10_1_arabe.json\n",
      "Traduciendo el pdf EX-10_0_español.pdf al idioma chino_mandarin\n",
      "Archivo guardado exitosamente como c:\\Users\\edgarmp\\Desktop\\Proyectos\\ODIASEIA hackaton\\data\\03_clean\\formularios\\traducciones\\chino_mandarin\\EX-10\\EX-10_0_chino_mandarin.json\n",
      "Traduciendo el pdf EX-10_1_español.pdf al idioma chino_mandarin\n",
      "Archivo guardado exitosamente como c:\\Users\\edgarmp\\Desktop\\Proyectos\\ODIASEIA hackaton\\data\\03_clean\\formularios\\traducciones\\chino_mandarin\\EX-10\\EX-10_1_chino_mandarin.json\n"
     ]
    },
    {
     "name": "stderr",
     "output_type": "stream",
     "text": [
      " 50%|█████     | 1/2 [04:05<04:05, 245.53s/it]"
     ]
    },
    {
     "name": "stdout",
     "output_type": "stream",
     "text": [
      "Traduciendo el pdf EX-17_0_español.pdf al idioma ingles\n",
      "Archivo guardado exitosamente como c:\\Users\\edgarmp\\Desktop\\Proyectos\\ODIASEIA hackaton\\data\\03_clean\\formularios\\traducciones\\ingles\\EX-17\\EX-17_0_ingles.json\n",
      "Traduciendo el pdf EX-17_1_español.pdf al idioma ingles\n",
      "Archivo guardado exitosamente como c:\\Users\\edgarmp\\Desktop\\Proyectos\\ODIASEIA hackaton\\data\\03_clean\\formularios\\traducciones\\ingles\\EX-17\\EX-17_1_ingles.json\n",
      "Traduciendo el pdf EX-17_0_español.pdf al idioma frances\n",
      "Archivo guardado exitosamente como c:\\Users\\edgarmp\\Desktop\\Proyectos\\ODIASEIA hackaton\\data\\03_clean\\formularios\\traducciones\\frances\\EX-17\\EX-17_0_frances.json\n",
      "Traduciendo el pdf EX-17_1_español.pdf al idioma frances\n",
      "Archivo guardado exitosamente como c:\\Users\\edgarmp\\Desktop\\Proyectos\\ODIASEIA hackaton\\data\\03_clean\\formularios\\traducciones\\frances\\EX-17\\EX-17_1_frances.json\n",
      "Traduciendo el pdf EX-17_0_español.pdf al idioma aleman\n",
      "Archivo guardado exitosamente como c:\\Users\\edgarmp\\Desktop\\Proyectos\\ODIASEIA hackaton\\data\\03_clean\\formularios\\traducciones\\aleman\\EX-17\\EX-17_0_aleman.json\n",
      "Traduciendo el pdf EX-17_1_español.pdf al idioma aleman\n",
      "Archivo guardado exitosamente como c:\\Users\\edgarmp\\Desktop\\Proyectos\\ODIASEIA hackaton\\data\\03_clean\\formularios\\traducciones\\aleman\\EX-17\\EX-17_1_aleman.json\n",
      "Traduciendo el pdf EX-17_0_español.pdf al idioma ucraniano\n",
      "Archivo guardado exitosamente como c:\\Users\\edgarmp\\Desktop\\Proyectos\\ODIASEIA hackaton\\data\\03_clean\\formularios\\traducciones\\ucraniano\\EX-17\\EX-17_0_ucraniano.json\n",
      "Traduciendo el pdf EX-17_1_español.pdf al idioma ucraniano\n",
      "Archivo guardado exitosamente como c:\\Users\\edgarmp\\Desktop\\Proyectos\\ODIASEIA hackaton\\data\\03_clean\\formularios\\traducciones\\ucraniano\\EX-17\\EX-17_1_ucraniano.json\n",
      "Traduciendo el pdf EX-17_0_español.pdf al idioma arabe\n",
      "Archivo guardado exitosamente como c:\\Users\\edgarmp\\Desktop\\Proyectos\\ODIASEIA hackaton\\data\\03_clean\\formularios\\traducciones\\arabe\\EX-17\\EX-17_0_arabe.json\n",
      "Traduciendo el pdf EX-17_1_español.pdf al idioma arabe\n",
      "Archivo guardado exitosamente como c:\\Users\\edgarmp\\Desktop\\Proyectos\\ODIASEIA hackaton\\data\\03_clean\\formularios\\traducciones\\arabe\\EX-17\\EX-17_1_arabe.json\n",
      "Traduciendo el pdf EX-17_0_español.pdf al idioma chino_mandarin\n",
      "Archivo guardado exitosamente como c:\\Users\\edgarmp\\Desktop\\Proyectos\\ODIASEIA hackaton\\data\\03_clean\\formularios\\traducciones\\chino_mandarin\\EX-17\\EX-17_0_chino_mandarin.json\n",
      "Traduciendo el pdf EX-17_1_español.pdf al idioma chino_mandarin\n",
      "Archivo guardado exitosamente como c:\\Users\\edgarmp\\Desktop\\Proyectos\\ODIASEIA hackaton\\data\\03_clean\\formularios\\traducciones\\chino_mandarin\\EX-17\\EX-17_1_chino_mandarin.json\n"
     ]
    },
    {
     "name": "stderr",
     "output_type": "stream",
     "text": [
      "100%|██████████| 2/2 [08:55<00:00, 267.73s/it]\n"
     ]
    }
   ],
   "source": [
    "for formulario in tqdm(formularios):\n",
    "    pdfs = [Path(p) for p in sorted(glob(str(formulario / '*.pdf')))]\n",
    "    codigo_formulario = pdfs[0].parent.name\n",
    "    \n",
    "    for idioma in idiomas:\n",
    "        for pdf in pdfs[:-1]:\n",
    "            print(f'Traduciendo el pdf {pdf.name} al idioma {idioma}')\n",
    "            pdf_index = pdf.name.split('_')[1]\n",
    "            doc = pymupdf.open(pdf)\n",
    "            page = doc[0]\n",
    "            all_text = page.get_text()\n",
    "            \n",
    "            page_texts = [b[4].strip() for b in page.get_text('blocks')]\n",
    "\n",
    "            normalized_page_texts = []\n",
    "            for p in page_texts:\n",
    "                normalized_page_texts.extend(normalize_string(p))\n",
    "            normalized_page_texts = [remove_number_parenthesis_space(p) for p in normalized_page_texts if len(p) > 2]\n",
    "            \n",
    "            traducciones = translate(client=client,\n",
    "                                model=GEMINI_MODEL,\n",
    "                                language=idioma,\n",
    "                                palabras='\\n'.join(random.sample(normalized_page_texts, len(normalized_page_texts))),\n",
    "                                contexto=all_text)\n",
    "\n",
    "            traducciones = {trad.palabra:clean_translation(trad.traduccion) for trad in traducciones.parsed.traducciones}\n",
    "            \n",
    "            traduccion_json = clean_path / 'formularios' / 'traducciones' / idioma / codigo_formulario /f'{codigo_formulario}_{pdf_index}_{idioma}'\n",
    "            os.makedirs(traduccion_json.parent, exist_ok=True)\n",
    "            json_dump(traducciones, traduccion_json)\n",
    "            \n",
    "            redactions = []\n",
    "\n",
    "            for search_text in normalized_page_texts:\n",
    "                \n",
    "                hits = page.search_for(search_text)\n",
    "                if len(hits) == 0:\n",
    "                    print(f'NO HIT for text: {search_text}')\n",
    "                \n",
    "                if len(hits) > 1:\n",
    "                    hits = filter_rectangles_by_area(rectangles=hits, min_area=30)\n",
    "                \n",
    "                for hit in hits[:1]:\n",
    "                    translate_key = match_words(word=search_text,\n",
    "                                                candidates=list(traducciones.keys()),\n",
    "                                                score_cutoff=80)\n",
    "                    \n",
    "                    if translate_key:\n",
    "                        traduccion = traducciones[translate_key]\n",
    "                    else:\n",
    "                        print(f'Texto: {search_text} sin traducción')\n",
    "                        traduccion = search_text\n",
    "                    # hit.x1 += 20\n",
    "\n",
    "                    redactions.append((hit, ' '.join(traduccion.split('\\n'))))\n",
    "                    page.add_redact_annot(hit, fill=(1, 1, 1))\n",
    "                page.apply_redactions() \n",
    "\n",
    "            for rec, trad in redactions:\n",
    "                page.insert_htmlbox(rec, trad)\n",
    "            \n",
    "            base_name = '_'.join(pdf.stem.split('_')[:-1])\n",
    "            output_file_path = intermediate_path / 'formularios' / idioma / codigo_formulario / f'{base_name}_{idioma}{pdf.suffix}'\n",
    "            os.makedirs(output_file_path.parent, exist_ok=True)\n",
    "            doc.subset_fonts()\n",
    "            doc.ez_save(output_file_path)\n",
    "            doc.close()\n",
    "            "
   ]
  },
  {
   "cell_type": "code",
   "execution_count": 6,
   "metadata": {},
   "outputs": [],
   "source": [
    "idiomas = [Path(p) for p in sorted(glob(str(intermediate_path / 'formularios/*')))]\n",
    "codigo_formularios = [p.name for p in formularios]\n",
    "\n",
    "for idioma in idiomas:\n",
    "    for codigo in codigo_formularios:\n",
    "        paginas_formularios = sorted([Path(p) for p in sorted(glob(str(idioma / codigo /'*.pdf')))])\n",
    "        \n",
    "        first_doc = pymupdf.open(paginas_formularios[0])\n",
    "        \n",
    "        if len(paginas_formularios) > 2:\n",
    "            for doc in paginas_formularios[1:-1]:\n",
    "                first_doc.insert_pdf(pymupdf.open(doc))\n",
    "        elif len(paginas_formularios) == 2:\n",
    "            first_doc.insert_pdf(pymupdf.open(paginas_formularios[1])) \n",
    "        \n",
    "        \n",
    "        filename = paginas_formularios[0].name.split('_')\n",
    "        output_file_path = output_path / 'formularios' / idioma.name / f'{\"_\".join(filename[:1] + filename[2:])}'\n",
    "        os.makedirs(output_file_path.parent, exist_ok=True)\n",
    "        first_doc.save(output_file_path)\n",
    "        "
   ]
  },
  {
   "cell_type": "code",
   "execution_count": 7,
   "metadata": {},
   "outputs": [],
   "source": [
    "# campos_dict = campos_text_dict(doc_id_data['Campos a rellenar'])"
   ]
  },
  {
   "cell_type": "code",
   "execution_count": 8,
   "metadata": {},
   "outputs": [],
   "source": [
    "# section_names = extract_section_names(doc_id_data['Secciones a rellenar del formulario'])"
   ]
  },
  {
   "cell_type": "code",
   "execution_count": 9,
   "metadata": {},
   "outputs": [],
   "source": [
    "# for w in normalized_page_texts[26:27]:\n",
    "#     insts = page.search_for('DISCAPACITADO DE NACIONALIDAD ESPAÑOLA, QUE OTORGA DERECHO DE ARRAIGO')\n",
    "#     print(len(insts))\n",
    "#     for inst in insts[0:]:\n",
    "#         page.add_redact_annot(inst, fill=(1,0,0))\n",
    "\n",
    "#     # Apply the redactions to the current page\n",
    "#     page.apply_redactions()\n",
    "\n",
    "#     # Save the modified document\n",
    "# doc.save('redacted_document.pdf')"
   ]
  },
  {
   "cell_type": "code",
   "execution_count": 10,
   "metadata": {},
   "outputs": [],
   "source": [
    "        # page.draw_rect(hit, color=None, fill=pymupdf.pdfcolor['white'])\n",
    "        # page.insert_htmlbox(hit, ' '.join(traduccion.split('\\n')))\n",
    "        \n",
    "        \n",
    "        # page.add_redact_annot(hit, ' '.join(traduccion.split('\\n')), fontname='helv', fontsize=25)"
   ]
  }
 ],
 "metadata": {
  "kernelspec": {
   "display_name": "hackaton",
   "language": "python",
   "name": "python3"
  },
  "language_info": {
   "codemirror_mode": {
    "name": "ipython",
    "version": 3
   },
   "file_extension": ".py",
   "mimetype": "text/x-python",
   "name": "python",
   "nbconvert_exporter": "python",
   "pygments_lexer": "ipython3",
   "version": "3.11.11"
  }
 },
 "nbformat": 4,
 "nbformat_minor": 2
}
