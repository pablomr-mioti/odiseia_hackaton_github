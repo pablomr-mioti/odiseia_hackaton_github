{
 "cells": [
  {
   "cell_type": "code",
   "execution_count": 8,
   "metadata": {},
   "outputs": [
    {
     "name": "stdout",
     "output_type": "stream",
     "text": [
      "The autoreload extension is already loaded. To reload it, use:\n",
      "  %reload_ext autoreload\n"
     ]
    }
   ],
   "source": [
    "%load_ext autoreload\n",
    "%autoreload 2\n",
    "\n",
    "import os\n",
    "import sys\n",
    "from pprint import pprint\n",
    "from dotenv import load_dotenv\n",
    "import pathlib\n",
    "# from tqdm import tqdm\n",
    "from tqdm.autonotebook import tqdm\n",
    "from pathlib import Path\n",
    "from pprint import pprint\n",
    "import numpy as np\n",
    "import hashlib\n",
    "import re\n",
    "import random\n",
    "\n",
    "import polars as pl\n",
    "from glob import glob\n",
    "\n",
    "from pdfminer.high_level import extract_pages, extract_text\n",
    "from pdfminer.layout import LTTextContainer, LTChar\n",
    "import fitz\n",
    "import pymupdf\n",
    "from deep_translator import GoogleTranslator\n",
    "from googletrans import Translator\n",
    "import asyncio\n",
    "import nest_asyncio\n",
    "\n",
    "from openai import OpenAI\n",
    "from google import genai\n",
    "from pinecone import Pinecone\n",
    "from langchain_openai import OpenAIEmbeddings\n",
    "import tiktoken\n",
    "\n",
    "from pinecone_text.sparse import BM25Encoder\n",
    "\n",
    "\n",
    "root_dir = Path(os.getcwd()).parent.parent\n",
    "sys.path.insert(0, str(root_dir))\n",
    "\n",
    "\n",
    "from src.d01_data.data_izeta import *\n",
    "\n",
    "\n",
    "pl.Config.set_fmt_str_lengths(300)\n",
    "pl.Config.set_tbl_rows(100)\n",
    "pl.Config.set_tbl_cols(20);"
   ]
  },
  {
   "cell_type": "code",
   "execution_count": 9,
   "metadata": {},
   "outputs": [],
   "source": [
    "from src.d01_data.data import *\n",
    "from src.d00_utils.utils import *\n",
    "from src.d03_modeling.modeling import *\n",
    "\n",
    "load_dotenv('../../.env')\n",
    "\n",
    "raw_path = root_dir / 'data' / '01_raw'\n",
    "intermediate_path = root_dir / 'data' / '02_intermediate'\n",
    "output_path = root_dir / 'data' / '04_model_output'"
   ]
  },
  {
   "cell_type": "code",
   "execution_count": 10,
   "metadata": {},
   "outputs": [],
   "source": [
    "OPENAI_API_KEY = os.getenv('OPENAI_API_KEY')\n",
    "OPENAI_MODEL = os.getenv('OPENAI_MODEL')\n",
    "GEMINI_API_KEY = os.getenv('GEMINI_API_KEY')\n",
    "GEMINI_MODEL = os.getenv('GEMINI_MODEL')\n",
    "\n",
    "client = genai.Client(api_key=GEMINI_API_KEY)"
   ]
  },
  {
   "cell_type": "code",
   "execution_count": 45,
   "metadata": {},
   "outputs": [],
   "source": [
    "# Abrir el PDF original\n",
    "doc_path = raw_path / 'formularios' / 'EX-10.pdf' # 'EX-10.pdf' 'EX-17.pdf'\n",
    "doc = fitz.open(doc_path)\n",
    "\n",
    "doc_output_path = raw_path / 'formularios' / 'EX_10_translated.pdf' # 'EX_10_translated.pdf' 'EX_17_translated.pdf'"
   ]
  },
  {
   "cell_type": "markdown",
   "metadata": {},
   "source": [
    "## Traduccion PDFs"
   ]
  },
  {
   "cell_type": "markdown",
   "metadata": {},
   "source": [
    "### PyMuPDF Youtube"
   ]
  },
  {
   "cell_type": "code",
   "execution_count": 6,
   "metadata": {},
   "outputs": [],
   "source": [
    "langs_dict = {\n",
    "    'arabic': 'ar',\n",
    "    'chinese (simplified)': 'zh-CN',\n",
    "    'chinese (traditional)': 'zh-TW',\n",
    "    'english': 'en',\n",
    "    'french': 'fr',\n",
    "    'spanish': 'es',\n",
    "    'ukrainian': 'uk',\n",
    "}"
   ]
  },
  {
   "cell_type": "code",
   "execution_count": 7,
   "metadata": {},
   "outputs": [],
   "source": [
    "es_translator = GoogleTranslator(source='es', target='en')"
   ]
  },
  {
   "cell_type": "code",
   "execution_count": 51,
   "metadata": {},
   "outputs": [
    {
     "name": "stdout",
     "output_type": "stream",
     "text": [
      "[(161.16000366210938, 90.34320068359375, 486.6900634765625, 101.51457977294922, ' \\n \\n', 0, 0), (33.959999084472656, 99.84423828125, 36.45009231567383, 110.87458038330078, ' \\n', 1, 0), (224.04000854492188, 52.24166488647461, 337.5514831542969, 63.670806884765625, 'Solicitud de autorización de  \\n', 2, 0), (210.83999633789062, 63.64166259765625, 348.57757568359375, 75.07080078125, 'residencia/residencia y trabajo por \\n', 3, 0), (220.67999267578125, 75.16165924072266, 338.7381896972656, 86.5907974243164, 'circunstancias excepcionales \\n', 4, 0), (227.75999450683594, 86.56166076660156, 331.6712646484375, 97.99079895019531, '(LO 4/2000 y RD 557/2011) \\n', 5, 0), (258.9599914550781, 30.88166046142578, 284.001220703125, 42.3108024597168, 'EX-10 \\n', 6, 0), (33.959999084472656, 110.89146423339844, 34.425193786621094, 113.23237609863281, ' \\n', 7, 0), (286.20001220703125, 113.1421127319336, 286.71002197265625, 115.4013442993164, ' \\n', 8, 0), (33.959999084472656, 115.49308013916016, 36.69643020629883, 129.26312255859375, ' \\n', 9, 0), (46.80000305175781, 135.7978057861328, 221.2541046142578, 149.84349060058594, '1) DATOS DEL EXTRANJERO/A \\n', 10, 0), (50.52000045776367, 158.6841278076172, 542.6522216796875, 174.22735595703125, ' \\nPASAPORTE  \\n \\n \\n \\n \\n \\n \\n \\n \\n \\nN.I.E. \\n \\n--  \\n \\n \\n \\n \\n \\n \\n- \\n \\n \\n', 11, 0), (50.52000045776367, 176.71331787109375, 396.1369934082031, 192.3473663330078, ' \\n1er Apellido  \\n2º Apellido \\n \\n', 12, 0), (50.52000045776367, 194.95330810546875, 551.8922729492188, 212.14736938476562, ' \\nNombre \\n \\nSexo(1)                                                                X * \\nH  \\nM \\n \\n \\n', 13, 0), (50.52000045776367, 213.55332946777344, 456.2087097167969, 231.1073760986328, ' \\nFecha de nacimiento(2) \\n \\n \\n \\n \\n \\nLugar  \\nPaís \\n \\n', 14, 0), (50.52000045776367, 231.67332458496094, 542.892822265625, 247.78736877441406, ' \\nNacionalidad \\n \\nEstado civil(3) \\nS \\n \\nC \\n \\nV \\n \\nD \\n \\nSp  \\n \\n', 15, 0), (50.52000045776367, 250.2733154296875, 386.0345153808594, 266.0273742675781, ' \\nNombre del padre  \\nNombre de la madre \\n \\n', 16, 0), (50.52000045776367, 268.5133056640625, 547.2931518554688, 284.1473693847656, ' \\nDomicilio en España  \\nNº \\n \\nPiso \\n \\n', 17, 0), (50.52000045776367, 286.63330078125, 474.5133972167969, 302.26739501953125, ' \\nLocalidad \\n \\nC.P. \\n \\n \\n \\n \\n \\nProvincia \\n \\n', 18, 0), (50.52000045776367, 304.7532958984375, 309.8512268066406, 320.38739013671875, ' \\nTeléfono móvil  \\n \\n \\n \\n \\n \\n \\n \\n \\n \\nE-mail \\n \\n', 19, 0), (50.52000045776367, 324.81976318359375, 515.9225463867188, 335.1473693847656, 'Representante legal, en su caso \\n \\nDNI/NIE/PAS \\n \\nTítulo(4)  \\n', 20, 0), (301.79998779296875, 337.63330078125, 302.4841003417969, 341.0758361816406, ' \\n', 21, 0), (33.959999084472656, 341.57305908203125, 36.69643020629883, 355.3431091308594, ' \\n', 22, 0), (48.12000274658203, 355.7578125, 528.1009521484375, 398.00347900390625, '2) DATOS DEL FAMILIAR ESPAÑOL / ESPAÑOL DE ORIGEN O PERSONA A CARGO DE \\nDISCAPACITADO DE NACIONALIDAD ESPAÑOLA, QUE OTORGA DERECHO DE ARRAIGO \\nFAMILIAR \\n', 23, 0), (50.52000045776367, 398.68414306640625, 555.2734375, 414.2273864746094, ' \\nPASAPORTE \\n \\n \\n \\n \\n \\n \\n \\n \\n \\n \\nD.N.I.\\n \\n- \\n \\n \\n \\n \\n \\n \\n- \\n \\n', 24, 0), (308.1600036621094, 416.7132873535156, 308.8441162109375, 420.15582275390625, ' \\n', 25, 0), (50.52000045776367, 422.1397705078125, 396.8570861816406, 432.4673767089844, '1er Apellido  \\n2º Apellido \\n \\n', 26, 0), (308.1600036621094, 434.95330810546875, 308.8441162109375, 438.3958435058594, ' \\n', 27, 0), (50.52000045776367, 439.5979919433594, 533.0828247070312, 452.0273742675781, 'Nombre  \\nSexo(1)      X *  \\nH  \\nM \\n \\nEstado civil(3) \\nS \\n \\nC \\n \\nV \\n \\nD \\n \\nSp  \\n \\n', 28, 0), (308.1600036621094, 453.55328369140625, 308.8441162109375, 456.9958190917969, ' \\n', 29, 0), (50.52000045776367, 458.8597412109375, 456.5724182128906, 471.10736083984375, 'Fecha de nacimiento(2) \\n \\n \\n \\n \\n \\nPaís \\n \\n \\n \\n', 30, 0), (308.1600036621094, 471.6733093261719, 308.8441162109375, 475.1158447265625, ' \\n', 31, 0), (50.52000045776367, 476.97979736328125, 382.494384765625, 487.3074035644531, 'Nombre del padre  \\nNombre de la madre \\n \\n', 32, 0), (308.1600036621094, 489.79327392578125, 308.8441162109375, 493.2358093261719, ' \\n', 33, 0), (50.52000045776367, 495.09979248046875, 541.5310668945312, 505.4273681640625, 'Domicilio en España  \\nNº \\n \\nPiso \\n \\n', 34, 0), (308.1600036621094, 507.913330078125, 308.8441162109375, 511.3558654785156, ' \\n', 35, 0), (50.52000045776367, 513.3397827148438, 455.0726013183594, 523.6673583984375, 'Localidad \\n \\nC.P. \\n \\nProvincia \\n \\n', 36, 0), (308.1600036621094, 526.1533203125, 308.8441162109375, 529.5958251953125, ' \\n', 37, 0), (50.52000045776367, 529.539794921875, 163.6923370361328, 550.1873168945312, 'Vínculo con el familiar o \\ndiscapacitado a cargo \\n \\n', 38, 0), (308.1600036621094, 550.7532958984375, 308.8441162109375, 554.19580078125, ' \\n', 39, 0), (301.79998779296875, 554.11328125, 302.4841003417969, 557.5557861328125, ' \\n', 40, 0), (33.959999084472656, 558.0530395507812, 36.69643020629883, 571.8231201171875, ' \\n', 41, 0), (47.040000915527344, 578.3578491210938, 518.1217651367188, 592.4035034179688, '3) DATOS DEL REPRESENTANTE A EFECTOS DE PRESENTACIÓN DE LA SOLICITUD(5) \\n', 42, 0), (50.76000213623047, 599.0841674804688, 476.7723693847656, 614.6273803710938, ' \\nNombre/Razón Social  \\nDNI/NIE/PAS  \\n', 43, 0), (50.76000213623047, 617.051513671875, 530.6705932617188, 631.6673583984375, ' \\nDomicilio en España  \\nNº \\n \\nPiso \\n \\n', 44, 0), (50.76000213623047, 634.0914916992188, 396.41619873046875, 648.5873413085938, ' \\nLocalidad \\n \\nC.P. \\n \\n \\n \\n \\n \\nProvincia \\n \\n', 45, 0), (50.76000213623047, 651.1314697265625, 272.2896423339844, 665.6273803710938, ' \\nTeléfono móvil  \\n \\n \\n \\n \\n \\n \\n \\n \\n \\nE-mail \\n \\n', 46, 0), (50.76000213623047, 668.1715087890625, 490.57232666015625, 682.6673583984375, ' \\nRepresentante legal, en su caso  \\nDNI/NIE/PAS  \\nTítulo(4)  \\n', 47, 0), (50.76000213623047, 685.1533203125, 51.44411087036133, 688.5958251953125, ' \\n', 48, 0), (33.959999084472656, 689.0930786132812, 36.69643020629883, 702.8631591796875, ' \\n', 49, 0), (47.040000915527344, 709.3978271484375, 312.6908264160156, 723.4434814453125, '4) DOMICILIO A EFECTOS DE NOTIFICACIONES \\n', 50, 0), (50.76000213623047, 730.004150390625, 481.9323425292969, 745.6673583984375, ' \\nNombre/Razón Social \\n \\nDNI/NIE/PAS \\n \\n', 51, 0), (50.76000213623047, 748.0914916992188, 532.8004760742188, 762.5873413085938, ' \\nDomicilio en España  \\nNº \\n \\nPiso \\n \\n', 52, 0), (50.76000213623047, 765.1314697265625, 401.8163757324219, 779.6273193359375, ' \\nLocalidad \\n \\nC.P. \\n \\n \\n \\n \\n \\nProvincia \\n \\n', 53, 0), (50.76000213623047, 782.051513671875, 275.9179382324219, 796.6673583984375, ' \\nTeléfono móvil  \\n \\n \\n \\n \\n \\n \\n \\n \\n \\nE-mail \\n \\n', 54, 0), (50.76000213623047, 799.1533203125, 51.44411087036133, 802.5958251953125, ' \\n', 55, 0), (33.959999084472656, 802.9730224609375, 560.1780395507812, 825.8639526367188, '     □ CONSIENTO que las comunicaciones y notificaciones se realicen mediante puesta a disposición en la Dirección electrónica habilitada Única (Dehú), para lo cual será \\nobligatorio disponer de certificado electrónico válido o sistema cl@ve. (6) \\n', 56, 0), (437.4000244140625, 60.637977600097656, 499.4838562011719, 69.86390686035156, 'Espacios para sellos \\n', 57, 0), (452.03997802734375, 69.87797546386719, 484.8059997558594, 79.1039047241211, 'de registro \\n', 58, 0)]\n",
      "[(33.959999084472656, 42.823204040527344, 486.6900634765625, 53.99457931518555, ' \\n \\n', 0, 0), (26.880001068115234, 820.0597534179688, 570.1290893554688, 830.3873291015625, 'DIRIGIDA A ……………………………………………………………………….…………………………Código DIR3………………..  PROVINCIA ……………………EX - 10 \\n', 1, 0), (33.959999084472656, 830.88427734375, 36.45009231567383, 841.9146118164062, ' \\n', 2, 0), (270.3600158691406, 30.761661529541016, 272.6312561035156, 42.19080352783203, ' \\n', 3, 0), (48.12000274658203, 53.9179801940918, 49.95341110229492, 63.14391326904297, ' \\n', 4, 0), (50.76000213623047, 69.79781341552734, 543.8016967773438, 83.84349822998047, 'Nombre y apellidos del titular………………………………………………………………………………………………………… \\n', 5, 0), (33.959999084472656, 90.35121154785156, 36.47752380371094, 103.01969909667969, ' \\n', 6, 0), (47.040000915527344, 109.51780700683594, 282.0817565917969, 123.56349182128906, '5) TIPO DE AUTORIZACIÓN SOLICITADA(7) \\n', 7, 0), (50.76000213623047, 130.13307189941406, 144.97848510742188, 143.9031219482422, '□ RESIDENCIA INICIAL \\n', 8, 0), (62.279998779296875, 143.81307983398438, 421.5373840332031, 377.90313720703125, '□ Arraigo Laboral (art. 124.1) \\n□ Arraigo Social (art. 124.2) \\n□ Arraigo Familiar (art. 124.3) \\n□ Arraigo Formación (art. 124.4)  \\n□ Protección internacional (art. 125) \\n□ Desplazados (art. 125) \\n□ Otros supuestos regulados de protección internacional (art. 125) \\n□ Razones humanitarias: víctima de determinados delitos (art. 126.1) \\n□ Razones humanitarias: enfermedad sobrevenida o menor desplazado para tratamiento médico (art. 126.2) \\n□ Razones humanitarias: peligro para su seguridad o su familia (art. 126.3) \\n□ Colaboración con autoridades administrativas (art. 127.1) \\n□ Colaboración con autoridades policiales, fiscales o judiciales (art. 127.1) \\n□ Colaboración con autoridades laborales competentes (art.127.2) \\n□ Razones de seguridad nacional (art. 127.1) \\n□ Interés público (art. 127.1) \\n□ Hijo de víctima de violencia de género <16 años o discapacitado en España (arts. 132.2 y 134.1) \\n□ Hijo de víctima de violencia sexual <16 años en España (art. 31 bis Ley Orgánica 4/2000) \\n', 9, 0), (50.76000213623047, 377.9330749511719, 356.8919982910156, 391.703125, '    □ Hijo de víctima de trata <16 años o discapacitado en España (art. 59. Bis 2 LO 4/2000) \\n', 10, 0), (62.279998779296875, 391.73309326171875, 468.23822021484375, 446.7831115722656, '□ Joven extranjero ex tutelado que al alcanzar la mayoría de edad no es titular de una autorización de residencia (art. 198) \\n□ Joven extranjero ex tutelado entre 18 y 23 años, que no es titular de autorización de residencia (art. 198 y DT única) \\n□ Otras circunstancias no previstas, competencia de la SEIE con informe previo de la SES (DA 1ª.4) \\n□ Otros…………………………………………………………………………………..…..………………………..(especificar) \\n', 11, 0), (50.76000213623047, 446.81304931640625, 176.65234375, 460.5830993652344, '□ PRÓRROGA DE RESIDENCIA \\n', 12, 0), (62.279998779296875, 460.49310302734375, 382.2102355957031, 501.8631286621094, '□ Titular de autorización de residencia por CCEE, en el supuesto de Arraigo Laboral (art. 124.1) \\n□ Titular de autorización de residencia por CCEE, en el supuesto de Arraigo Social (art. 124.2) \\n□ Titular de autorización de residencia por CCEE, en el supuesto de Arraigo Familiar (art. 124.3) \\n', 13, 0), (50.76000213623047, 501.89306640625, 391.58642578125, 515.6631469726562, '     □ Titular de autorización de residencia por CCEE, en el supuesto de Arraigo Formación (art. 124.4)  \\n', 14, 0), (62.76000213623047, 515.5731201171875, 369.9763488769531, 543.1431274414062, '□ Titular de autorización de residencia por CCEE concedida por la SE Seguridad (art. 130.2) \\n□ Titular de autorización de residencia temporal por protección internacional (art. 130.3) \\n', 15, 0), (50.76000213623047, 543.173095703125, 365.1491394042969, 570.7431030273438, '    □ Joven extranjero TITULAR de autorización de residencia (art. 198) (Primera renovación) \\n    □ Joven extranjero TITULAR de autorización de residencia (art. 198) (Segunda renovación) \\n', 16, 0), (54.47999954223633, 570.653076171875, 231.11123657226562, 584.4231567382812, '□ RENOVACIÓN ESPECIAL DE RESIDENCIA \\n', 17, 0), (64.19999694824219, 584.4530639648438, 209.3759307861328, 598.22314453125, '□ Menor en tratamiento médico (art. 126.2) \\n', 18, 0), (54.47999954223633, 598.2530517578125, 166.57638549804688, 612.0231323242188, '□ RESIDENCIA Y TRABAJO \\n', 19, 0), (62.39999771118164, 612.0530395507812, 389.4107666015625, 736.1031494140625, '□ Víctima de violencia de género (art. 132.1 y 134.1) \\n□ Hijo menor de víctima de violencia de género >16 años en España (art. 132.2 y 134.1)  \\n□ Víctima de violencia sexual (art. 31 bis Ley Orgánica 4/2000) \\n□ Hijo menor de víctima de violencia sexual >16 años en España (art. 31 bis Ley Orgánica 4/2000) \\n□ Víctima de la trata de seres humanos (art. 144.5) \\n□ Hijo menor de víctima de trata >16 años en España (art. 59. Bis 2 LO 4/2000) \\n□ Colaborador/a contra redes organizadas (arts. 136.7 y 137.7) \\n□ Arraigo para la formación (finalización formación) \\n□ Otros………………….………………………………………..(especificar) \\n', 20, 0), (33.959999084472656, 740.0665283203125, 35.328216552734375, 746.9515991210938, ' \\n', 21, 0), (282.1199951171875, 746.8597412109375, 545.81298828125, 757.1873168945312, '………..………..….……………, a …..... de ………..…….……….….. de …………. \\n', 22, 0), (33.959999084472656, 757.1179809570312, 35.79340744018555, 766.3439331054688, ' \\n', 23, 0)]\n",
      "[(33.959999084472656, 28.511119842529297, 34.950035095214844, 32.89667510986328, ' \\n', 0, 0), (556.6799926757812, 831.5797729492188, 558.7322998046875, 841.9073486328125, ' \\n', 1, 0), (266.1600036621094, 39.45978927612305, 474.1382141113281, 49.78736877441406, 'FIRMA DEL SOLICITANTE (o representante legal, en su caso) \\n', 2, 0), (26.880001068115234, 96.57978820800781, 570.1290893554688, 117.22735595703125, ' \\nDIRIGIDA A ……………………………………………………………………….…………………………Código DIR3………………..  PROVINCIA ……………………EX - 10 \\n', 3, 0), (33.959999084472656, 117.7242431640625, 347.48699951171875, 186.2996826171875, ' \\n \\n \\n \\n \\n \\n \\n', 4, 0), (324.0, 186.231201171875, 326.51751708984375, 198.89968872070312, ' \\n', 5, 0), (233.27999877929688, 198.83120727539062, 417.20703125, 211.49969482421875, 'INSTRUCCIONES DE CUMPLIMENTACIÓN \\n', 6, 0), (41.040000915527344, 211.46656799316406, 42.40821838378906, 218.35159301757812, ' \\n', 7, 0), (154.20001220703125, 218.37977600097656, 495.8799133300781, 228.7073516845703, 'RELLENAR EN MAYÚSCULAS CON BOLÍGRAFO NEGRO Y LETRA DE IMPRENTA O A MÁQUINA \\n', 8, 0), (222.48001098632812, 228.6997833251953, 427.5472717285156, 239.02735900878906, 'SE PRESENTARÁ ORIGINAL Y COPIA DE ESTE IMPRESO \\n', 9, 0), (33.959999084472656, 239.01979064941406, 36.0123291015625, 261.2273864746094, ' \\n \\n', 10, 0), (41.040000915527344, 265.77978515625, 265.4851379394531, 276.1073913574219, '(1) Marque la opción que proceda.   Hombre / Mujer/ X- Indefinido \\n', 11, 0), (59.040000915527344, 280.6597900390625, 446.9013977050781, 290.9873962402344, '*X- Indefinido: Esta casilla solo podrá marcarse por aquellas personas que lo tengan reconocido en su país de origen. \\n', 12, 0), (41.040000915527344, 295.539794921875, 380.78466796875, 305.86737060546875, '(2) Rellenar utilizando 2 dígitos para el día, 2 para el mes y 4 para el año, en este orden (dd/mm/aaaa)  \\n', 13, 0), (41.040000915527344, 310.4197998046875, 321.7446594238281, 320.74737548828125, '(3) Marque la opción que proceda.  Soltero / Casado / Viudo / Divorciado / Separado  \\n', 14, 0), (41.040000915527344, 325.2998046875, 524.5322875976562, 335.62738037109375, '(4) Indique el título en base al cual se ostenta la representación, por ejemplo: Padre/Madre del menor, Administrador Único, Consejero Delegado… \\n', 15, 0), (41.040000915527344, 340.17974853515625, 260.5552673339844, 350.5073547363281, '(5) Rellenar sólo en el caso de ser persona distinta del solicitante.  \\n', 16, 0), (41.040000915527344, 355.059814453125, 546.421142578125, 472.1873474121094, '(6) Conforme a la DA 4ª del RD 557/2011, están obligados a la notificación electrónica, aunque no hayan dado su consentimiento, las personas jurídicas \\ny los colectivos de personas físicas que, por su capacidad económica o técnica, dedicación profesional u otros motivos acreditados, tengan garantizado \\nel acceso y disponibilidad de los medios tecnológicos precisos. Si usted no está incluido en alguno de los colectivos mencionados, se le notificará por \\nesta vía únicamente si marca la casilla de consentimiento. En ambos casos la notificación consistirá en la puesta a disposición del documento en la sede \\nelectrónica del Ministerio de Política Territorial y Función Pública (https://sede.administracionespublicas.gob.es/). \\nLa notificación se realizará a la persona cuyos datos se indiquen en el apartado “domicilio a efectos de notificaciones” o, en su defecto, al solicitante. \\nPara acceder al contenido del documento es necesario disponer de certificado electrónico asociado al DNI/NIE que figure en el apartado “domicilio a \\nefecto de notificaciones”. \\nEs conveniente además que rellene los campos “teléfono móvil” o “e-mail” para tener la posibilidad de enviarle un aviso (meramente informativo) cuando \\ntenga una notificación pendiente. \\n', 17, 0), (41.040000915527344, 476.73980712890625, 552.2793579101562, 509.2673645019531, '(7) Marque la opción que corresponda. \\n(8) Deberá aportarse la matrícula en un plazo máximo de tres meses desde la notificación de la resolución de la concesión de la autorización de residencia. \\nEn otro caso, se podrá iniciar un expediente de extinción. \\n', 18, 0), (33.959999084472656, 509.259765625, 36.0123291015625, 529.9073486328125, ' \\n \\n', 19, 0), (41.040000915527344, 529.9616088867188, 560.7449340820312, 564.3107299804688, 'La información específica sobre trámites a realizar y documentación que debe acompañar a este impreso de solicitud para cada uno \\nde los procedimientos contemplados en el mismo, así como la información sobre las tasas que conlleva dicha tramitación (HOJAS \\nINFORMATIVAS), se encuentra disponible en cualquiera de las siguientes direcciones Web: \\n', 20, 0), (33.959999084472656, 564.4016723632812, 552.6224975585938, 575.830810546875, '   http://extranjeros.inclusion.gob.es/   \\n http://extranjeros.inclusion.gob.es/es/InformacionInteres/InformacionProcedimientos/  \\n', 21, 0), (41.040000915527344, 575.7979736328125, 560.5665893554688, 678.3473510742188, ' \\n \\nDe conformidad con lo establecido en el Reglamento General de Protección de Datos, Reglamento (UE) 2016/679 del Parlamento Europeo y del Consejo de \\n27 de abril del 2016, se informa que los datos que suministren los interesados en este formulario necesarios para resolver su petición pasarán a formar parte \\ndel tratamiento “Autorizaciones de residencia y trabajo a extranjeros”, cuyos destinatarios serán los órganos de la Administración General del Estado con \\ncompetencias en extranjería, siendo responsables del mismo la Dirección General de Migraciones, la Dirección General de la Policía y las Delegaciones o \\nSubdelegaciones del Gobierno. Los interesados podrán ejercer sus derechos de acceso, rectificación, supresión, limitación del tratamiento, portabilidad, \\noposición, así como a no ser objeto de decisiones basadas en el tratamiento automatizado de sus datos, cuando proceda, ante la Dirección General de \\nMigraciones, calle José Abascal 39, 28003 Madrid, o en la siguiente dirección de correo electrónico: dpd@mitramiss.es. Así mismo tendrán derecho a \\npresentar una reclamación ante la Agencia Española de Protección de Datos, www.aepd.es. \\n', 22, 0), (33.959999084472656, 680.07763671875, 35.70006561279297, 695.8256225585938, ' \\n \\n', 23, 0), (170.27999877929688, 696.4597778320312, 438.2523193359375, 706.787353515625, 'Los modelos oficiales podrán ser reproducidos por cualquier medio de impresión. \\n', 24, 0), (39.119998931884766, 706.7797241210938, 562.3820190429688, 717.1072998046875, 'Estarán disponibles, además de en las Unidades encargadas de su gestión, en la página de información de Internet del Ministerio Inclusión, Seguridad Social y \\n', 25, 0), (211.32000732421875, 717.0997924804688, 394.2369079589844, 727.4273681640625, 'Migraciones: http://extranjeros.inclusion.gob.es/es/   \\n', 26, 0), (320.4000244140625, 731.3798217773438, 322.4523620605469, 741.7073974609375, ' \\n', 27, 0), (240.72000122070312, 746.8597412109375, 402.2334899902344, 757.1873168945312, 'IMPRESO GRATUITO. PROHIBIDA SU VENTA \\n', 28, 0), (33.959999084472656, 762.4597778320312, 361.555908203125, 793.4273681640625, ' \\n \\n \\n \\n', 29, 0), (535.6799926757812, 793.4197387695312, 537.7322998046875, 814.0673828125, ' \\n \\n', 30, 0), (523.3200073242188, 814.0597534179688, 549.9722900390625, 824.3873291015625, 'EX - 10 \\n', 31, 0)]\n"
     ]
    }
   ],
   "source": [
    "doc = fitz.open(doc_path)\n",
    "\n",
    "for page in doc:\n",
    "    blocks = page.get_text('blocks', flags=pymupdf.TEXT_DEHYPHENATE)\n",
    "\n",
    "    for block in blocks:\n",
    "        bbox = block[:4]\n",
    "\n",
    "        original = block[4]\n",
    "\n",
    "        translated = es_translator.translate(original)\n",
    "\n",
    "        page.draw_rect(bbox, color=None, fill=pymupdf.pdfcolor['white'])\n",
    "\n",
    "        page.insert_htmlbox(bbox, translated)\n",
    "\n",
    "#doc.save(doc_output_path)"
   ]
  },
  {
   "cell_type": "markdown",
   "metadata": {},
   "source": [
    "### Funcion Buena"
   ]
  },
  {
   "cell_type": "code",
   "execution_count": 66,
   "metadata": {},
   "outputs": [],
   "source": [
    "nest_asyncio.apply()\n",
    "\n",
    "async def traducir_pdf_async(translator, doc, doc_output_path):\n",
    "    \n",
    "    for page in doc:\n",
    "        redactions = []\n",
    "        text_dict = page.get_text('dict')\n",
    "\n",
    "        if 'blocks' not in text_dict:\n",
    "            continue\n",
    "\n",
    "        for block in text_dict['blocks']:\n",
    "            if 'lines' not in block:\n",
    "                continue\n",
    "            for line in block['lines']:\n",
    "                for span in line['spans']:\n",
    "                    original_text = span['text']\n",
    "\n",
    "                    if not original_text.strip():\n",
    "                        continue\n",
    "\n",
    "                    # Traducir el texto\n",
    "                    result = await translator.translate(original_text, dest='en')\n",
    "                    translated_text = result.text\n",
    "\n",
    "                    rect = fitz.Rect(span['bbox'])\n",
    "                    redactions.append((rect, translated_text))\n",
    "\n",
    "                    # Crea una anotacion de redaccion que va a cubrir de blanco todo el area del rectangulo\n",
    "                    page.add_redact_annot(rect, fill=(1, 1, 1))\n",
    "        \n",
    "        # Aplica las anotaciones de redaccion, en este caso elimina los textos originales de la pagina\n",
    "        page.apply_redactions()\n",
    "\n",
    "        # Insertar el texto traducido en cada bbox\n",
    "        for rect, translated_text in redactions:\n",
    "            page.insert_htmlbox(\n",
    "                rect,\n",
    "                translated_text\n",
    "            )\n",
    "\n",
    "    # Guardar el PDF traducido\n",
    "    doc.save(doc_output_path)"
   ]
  },
  {
   "cell_type": "code",
   "execution_count": 67,
   "metadata": {},
   "outputs": [],
   "source": [
    "# Funcion async\n",
    "doc = fitz.open(doc_path)\n",
    "translator = Translator()\n",
    "\n",
    "asyncio.run(traducir_pdf_async(translator, doc, doc_output_path))"
   ]
  },
  {
   "cell_type": "markdown",
   "metadata": {},
   "source": [
    "### Funcion Semi-Buena"
   ]
  },
  {
   "cell_type": "code",
   "execution_count": 64,
   "metadata": {},
   "outputs": [],
   "source": [
    "def traducir_pdf(es_translator, doc, doc_output_path):\n",
    "\n",
    "    for page in doc:\n",
    "        text_dict = page.get_text('dict')\n",
    "\n",
    "        if 'blocks' not in text_dict:\n",
    "            continue\n",
    "\n",
    "        for block in text_dict['blocks']:\n",
    "            if 'lines' not in block:\n",
    "                continue\n",
    "            for line in block['lines']:\n",
    "                for span in line['spans']:\n",
    "                    original_text = span['text']\n",
    "\n",
    "                    if not original_text.strip():\n",
    "                        continue\n",
    "\n",
    "                    # Traducir el texto\n",
    "                    translated_text = es_translator.translate(original_text)\n",
    "                    if not isinstance(translated_text, str):\n",
    "                        translated_text = original_text\n",
    "\n",
    "                    # Guardar la posición de los rectangulos junto al texto traducido\n",
    "                    rect = fitz.Rect(span['bbox'])\n",
    "\n",
    "                    # Añadir anotación de redacción para borrar el contenido original\n",
    "                    page.add_redact_annot(rect, text=translated_text , fill=(1, 1, 1))\n",
    "        \n",
    "        # Aplicar las redacciones\n",
    "        page.apply_redactions()\n",
    "\n",
    "    # Guardar el PDF traducido\n",
    "    doc.save(doc_output_path)"
   ]
  },
  {
   "cell_type": "code",
   "execution_count": 65,
   "metadata": {},
   "outputs": [],
   "source": [
    "doc = fitz.open(doc_path)\n",
    "es_translator = GoogleTranslator(source='es', target='en')\n",
    "\n",
    "traducir_pdf(es_translator, doc, doc_output_path)"
   ]
  },
  {
   "cell_type": "markdown",
   "metadata": {},
   "source": [
    "### Código Edgar"
   ]
  },
  {
   "cell_type": "code",
   "execution_count": 73,
   "metadata": {},
   "outputs": [],
   "source": [
    "def traducir_pdf(doc_path, doc_output_path):\n",
    "\n",
    "    all_text = extract_pdf_text(doc_path)\n",
    "    doc = fitz.open(doc_path)\n",
    "\n",
    "    for page in doc:\n",
    "        redactions = []\n",
    "        page_texts = [b[4].strip() for b in page.get_text('blocks')]\n",
    "        \n",
    "        normalized_page_texts = []\n",
    "        for p in page_texts:\n",
    "            normalized_page_texts.extend(normalize_string(p))\n",
    "        normalized_page_texts = [remove_number_parenthesis_space(p) for p in normalized_page_texts if len(p) > 2]\n",
    "\n",
    "        final_texts_to_search = normalized_page_texts\n",
    "        \n",
    "        traducciones = translate(client=client,\n",
    "                         model=GEMINI_MODEL,\n",
    "                         language='en',\n",
    "                         palabras='\\n'.join(random.sample(final_texts_to_search, len(final_texts_to_search))),\n",
    "                         contexto=all_text)\n",
    "\n",
    "        traducciones = {trad.palabra:trad.traduccion for trad in traducciones.parsed.traducciones}\n",
    "        \n",
    "        text_dict = page.get_text('dict')\n",
    "\n",
    "        if 'blocks' not in text_dict:\n",
    "            continue\n",
    "\n",
    "        for block in text_dict['blocks']:\n",
    "            if 'lines' not in block:\n",
    "                continue\n",
    "            for line in block['lines']:\n",
    "                for span in line['spans']:\n",
    "                    original_text = span['text']\n",
    "\n",
    "                    if not original_text.strip():\n",
    "                        continue\n",
    "\n",
    "                    # Traducir el texto\n",
    "                    translate_key = match_words(word=original_text, candidates=list(traducciones.keys()))\n",
    "        \n",
    "                    if translate_key:\n",
    "                        translated_text = traducciones[translate_key]\n",
    "                    else:\n",
    "                        translated_text = original_text\n",
    "\n",
    "                    # Guardar la posición de los rectangulos junto al texto traducido\n",
    "                    rect = fitz.Rect(span['bbox'])\n",
    "                    redactions.append((rect, translated_text))\n",
    "\n",
    "                    # Añadir anotación de redacción para borrar el contenido original\n",
    "                    page.add_redact_annot(rect, fill=(1, 1, 1))\n",
    "        \n",
    "        # Aplicar las redacciones\n",
    "        page.apply_redactions()\n",
    "\n",
    "        # Insertar el texto traducido en cada bbox\n",
    "        for rect, translated_text in redactions:\n",
    "            page.insert_htmlbox(\n",
    "                rect,\n",
    "                translated_text\n",
    "            )\n",
    "\n",
    "    # Guardar el PDF traducido\n",
    "    doc.save(doc_output_path)"
   ]
  },
  {
   "cell_type": "code",
   "execution_count": 74,
   "metadata": {},
   "outputs": [
    {
     "name": "stderr",
     "output_type": "stream",
     "text": [
      "WARNING:thefuzz.process:Applied processor reduces input query to empty string, all comparisons will have score 0. [Query: '--  ']\n",
      "WARNING:thefuzz.process:Applied processor reduces input query to empty string, all comparisons will have score 0. [Query: '- ']\n",
      "WARNING:thefuzz.process:Applied processor reduces input query to empty string, all comparisons will have score 0. [Query: '-']\n",
      "WARNING:thefuzz.process:Applied processor reduces input query to empty string, all comparisons will have score 0. [Query: '- ']\n",
      "WARNING:thefuzz.process:Applied processor reduces input query to empty string, all comparisons will have score 0. [Query: '     □']\n"
     ]
    },
    {
     "name": "stdout",
     "output_type": "stream",
     "text": [
      "No match for word --  \n",
      "No match for word - \n",
      "No match for word H \n",
      "No match for word (2)\n",
      "No match for word (3)\n",
      "No match for word V \n",
      "No match for word Sp  \n",
      "No match for word 2)\n",
      "No match for word -\n",
      "No match for word - \n",
      "No match for word H \n",
      "No match for word (3)\n",
      "No match for word V \n",
      "No match for word Sp  \n",
      "No match for word (2)\n",
      "No match for word 3)\n",
      "No match for word (5)\n",
      "No match for word      □\n"
     ]
    },
    {
     "name": "stderr",
     "output_type": "stream",
     "text": [
      "WARNING:thefuzz.process:Applied processor reduces input query to empty string, all comparisons will have score 0. [Query: '…………………………………………………………………………………………………………']\n",
      "WARNING:thefuzz.process:Applied processor reduces input query to empty string, all comparisons will have score 0. [Query: '□']\n",
      "WARNING:thefuzz.process:Applied processor reduces input query to empty string, all comparisons will have score 0. [Query: '□']\n",
      "WARNING:thefuzz.process:Applied processor reduces input query to empty string, all comparisons will have score 0. [Query: '□']\n",
      "WARNING:thefuzz.process:Applied processor reduces input query to empty string, all comparisons will have score 0. [Query: '□']\n",
      "WARNING:thefuzz.process:Applied processor reduces input query to empty string, all comparisons will have score 0. [Query: '□']\n",
      "WARNING:thefuzz.process:Applied processor reduces input query to empty string, all comparisons will have score 0. [Query: '□']\n",
      "WARNING:thefuzz.process:Applied processor reduces input query to empty string, all comparisons will have score 0. [Query: '□']\n",
      "WARNING:thefuzz.process:Applied processor reduces input query to empty string, all comparisons will have score 0. [Query: '□']\n",
      "WARNING:thefuzz.process:Applied processor reduces input query to empty string, all comparisons will have score 0. [Query: '□']\n",
      "WARNING:thefuzz.process:Applied processor reduces input query to empty string, all comparisons will have score 0. [Query: '□']\n",
      "WARNING:thefuzz.process:Applied processor reduces input query to empty string, all comparisons will have score 0. [Query: '□']\n",
      "WARNING:thefuzz.process:Applied processor reduces input query to empty string, all comparisons will have score 0. [Query: '□']\n",
      "WARNING:thefuzz.process:Applied processor reduces input query to empty string, all comparisons will have score 0. [Query: '□']\n",
      "WARNING:thefuzz.process:Applied processor reduces input query to empty string, all comparisons will have score 0. [Query: '□']\n",
      "WARNING:thefuzz.process:Applied processor reduces input query to empty string, all comparisons will have score 0. [Query: '□']\n",
      "WARNING:thefuzz.process:Applied processor reduces input query to empty string, all comparisons will have score 0. [Query: '□']\n",
      "WARNING:thefuzz.process:Applied processor reduces input query to empty string, all comparisons will have score 0. [Query: '□']\n",
      "WARNING:thefuzz.process:Applied processor reduces input query to empty string, all comparisons will have score 0. [Query: '□']\n",
      "WARNING:thefuzz.process:Applied processor reduces input query to empty string, all comparisons will have score 0. [Query: '    □']\n",
      "WARNING:thefuzz.process:Applied processor reduces input query to empty string, all comparisons will have score 0. [Query: '□']\n",
      "WARNING:thefuzz.process:Applied processor reduces input query to empty string, all comparisons will have score 0. [Query: '□']\n",
      "WARNING:thefuzz.process:Applied processor reduces input query to empty string, all comparisons will have score 0. [Query: '□']\n",
      "WARNING:thefuzz.process:Applied processor reduces input query to empty string, all comparisons will have score 0. [Query: '□']\n",
      "WARNING:thefuzz.process:Applied processor reduces input query to empty string, all comparisons will have score 0. [Query: '□']\n",
      "WARNING:thefuzz.process:Applied processor reduces input query to empty string, all comparisons will have score 0. [Query: '□']\n",
      "WARNING:thefuzz.process:Applied processor reduces input query to empty string, all comparisons will have score 0. [Query: '□']\n",
      "WARNING:thefuzz.process:Applied processor reduces input query to empty string, all comparisons will have score 0. [Query: '□']\n",
      "WARNING:thefuzz.process:Applied processor reduces input query to empty string, all comparisons will have score 0. [Query: '□']\n",
      "WARNING:thefuzz.process:Applied processor reduces input query to empty string, all comparisons will have score 0. [Query: '□']\n",
      "WARNING:thefuzz.process:Applied processor reduces input query to empty string, all comparisons will have score 0. [Query: '□']\n",
      "WARNING:thefuzz.process:Applied processor reduces input query to empty string, all comparisons will have score 0. [Query: '    □']\n",
      "WARNING:thefuzz.process:Applied processor reduces input query to empty string, all comparisons will have score 0. [Query: '    □']\n",
      "WARNING:thefuzz.process:Applied processor reduces input query to empty string, all comparisons will have score 0. [Query: '□']\n",
      "WARNING:thefuzz.process:Applied processor reduces input query to empty string, all comparisons will have score 0. [Query: '□']\n",
      "WARNING:thefuzz.process:Applied processor reduces input query to empty string, all comparisons will have score 0. [Query: '□']\n",
      "WARNING:thefuzz.process:Applied processor reduces input query to empty string, all comparisons will have score 0. [Query: '□']\n",
      "WARNING:thefuzz.process:Applied processor reduces input query to empty string, all comparisons will have score 0. [Query: '□']\n",
      "WARNING:thefuzz.process:Applied processor reduces input query to empty string, all comparisons will have score 0. [Query: ')']\n",
      "WARNING:thefuzz.process:Applied processor reduces input query to empty string, all comparisons will have score 0. [Query: '□']\n",
      "WARNING:thefuzz.process:Applied processor reduces input query to empty string, all comparisons will have score 0. [Query: '□']\n",
      "WARNING:thefuzz.process:Applied processor reduces input query to empty string, all comparisons will have score 0. [Query: '□']\n",
      "WARNING:thefuzz.process:Applied processor reduces input query to empty string, all comparisons will have score 0. [Query: '□']\n",
      "WARNING:thefuzz.process:Applied processor reduces input query to empty string, all comparisons will have score 0. [Query: '□']\n",
      "WARNING:thefuzz.process:Applied processor reduces input query to empty string, all comparisons will have score 0. [Query: '□']\n"
     ]
    },
    {
     "name": "stdout",
     "output_type": "stream",
     "text": [
      "No match for word …………………………………………………………………………………………………………\n",
      "No match for word 5)\n",
      "No match for word (7)\n",
      "No match for word □\n",
      "No match for word □\n",
      "No match for word □\n",
      "No match for word □\n",
      "No match for word □\n",
      "No match for word □\n",
      "No match for word □\n",
      "No match for word □\n",
      "No match for word □\n",
      "No match for word □\n",
      "No match for word □\n",
      "No match for word □\n",
      "No match for word □\n",
      "No match for word □\n",
      "No match for word □\n",
      "No match for word □\n",
      "No match for word □\n",
      "No match for word □\n",
      "No match for word     □\n",
      "No match for word □\n",
      "No match for word □\n",
      "No match for word □\n",
      "No match for word □\n",
      "No match for word □\n",
      "No match for word □\n",
      "No match for word □\n",
      "No match for word □\n",
      "No match for word □\n",
      "No match for word □\n",
      "No match for word □\n",
      "No match for word     □\n",
      "No match for word     □\n",
      "No match for word □\n",
      "No match for word □\n",
      "No match for word □\n",
      "No match for word □\n",
      "No match for word □\n",
      "No match for word )\n",
      "No match for word □\n",
      "No match for word □\n",
      "No match for word □\n",
      "No match for word □\n",
      "No match for word □\n"
     ]
    },
    {
     "name": "stderr",
     "output_type": "stream",
     "text": [
      "WARNING:thefuzz.process:Applied processor reduces input query to empty string, all comparisons will have score 0. [Query: '□']\n"
     ]
    },
    {
     "name": "stdout",
     "output_type": "stream",
     "text": [
      "No match for word □\n",
      "No match for word □\n"
     ]
    },
    {
     "name": "stderr",
     "output_type": "stream",
     "text": [
      "WARNING:thefuzz.process:Applied processor reduces input query to empty string, all comparisons will have score 0. [Query: '*']\n",
      "WARNING:thefuzz.process:Applied processor reduces input query to empty string, all comparisons will have score 0. [Query: '/']\n",
      "WARNING:thefuzz.process:Applied processor reduces input query to empty string, all comparisons will have score 0. [Query: '/']\n",
      "WARNING:thefuzz.process:Applied processor reduces input query to empty string, all comparisons will have score 0. [Query: '/']\n",
      "WARNING:thefuzz.process:Applied processor reduces input query to empty string, all comparisons will have score 0. [Query: '/']\n",
      "WARNING:thefuzz.process:Applied processor reduces input query to empty string, all comparisons will have score 0. [Query: '). ']\n"
     ]
    },
    {
     "name": "stdout",
     "output_type": "stream",
     "text": [
      "No match for word H\n",
      "No match for word M\n",
      "No match for word *\n",
      "No match for word (2) \n",
      "No match for word (3)\n",
      "No match for word S\n",
      "No match for word oltero\n",
      "No match for word /\n",
      "No match for word  C\n",
      "No match for word asado\n",
      "No match for word /\n",
      "No match for word  V\n",
      "No match for word iudo\n",
      "No match for word /\n",
      "No match for word  D\n",
      "No match for word ivorciado\n",
      "No match for word /\n",
      "No match for word  S\n",
      "No match for word p\n",
      "No match for word arado\n",
      "No match for word (4)\n",
      "No match for word (5) \n",
      "No match for word (6) \n",
      "No match for word ). \n",
      "No match for word (7)\n",
      "No match for word (8)\n",
      "No match for word dpd@mitramiss.es\n"
     ]
    }
   ],
   "source": [
    "traducir_pdf(doc_path, doc_output_path)"
   ]
  },
  {
   "cell_type": "code",
   "execution_count": null,
   "metadata": {},
   "outputs": [],
   "source": []
  },
  {
   "cell_type": "code",
   "execution_count": null,
   "metadata": {},
   "outputs": [],
   "source": []
  },
  {
   "cell_type": "code",
   "execution_count": 48,
   "metadata": {},
   "outputs": [],
   "source": [
    "pdfs = [doc_path]\n",
    "\n",
    "for pdf in pdfs:\n",
    "    \n",
    "    doc = pymupdf.open(pdf)\n",
    "    page = doc[0]\n",
    "    all_text = page.get_text()\n",
    "    \n",
    "    page_texts = [b[4].strip() for b in page.get_text('blocks')]\n",
    "\n",
    "    normalized_page_texts = []\n",
    "    for p in page_texts:\n",
    "        normalized_page_texts.extend(normalize_string(p))\n",
    "    normalized_page_texts = [remove_number_parenthesis_space(p) for p in normalized_page_texts if len(p) > 2]\n",
    "\n",
    "    final_texts_to_search = normalized_page_texts\n",
    "        \n",
    "    break"
   ]
  },
  {
   "cell_type": "code",
   "execution_count": 49,
   "metadata": {},
   "outputs": [],
   "source": [
    "traducciones = translate(client=client,\n",
    "                         model=GEMINI_MODEL,\n",
    "                         language='en',\n",
    "                         palabras='\\n'.join(random.sample(final_texts_to_search, len(final_texts_to_search))),\n",
    "                         contexto=all_text)\n",
    "\n",
    "traducciones = {trad.palabra:trad.traduccion for trad in traducciones.parsed.traducciones}"
   ]
  },
  {
   "cell_type": "code",
   "execution_count": 50,
   "metadata": {},
   "outputs": [],
   "source": [
    "for search_text in final_texts_to_search:\n",
    "    \n",
    "    hits = page.search_for(search_text)\n",
    "    if len(hits) == 0:\n",
    "        print(f'NO HIT for text: {search_text}')\n",
    "        \n",
    "    for hit in hits[:1]:\n",
    "        translate_key = match_words(word=search_text, candidates=list(traducciones.keys()))\n",
    "        \n",
    "        if translate_key:\n",
    "            traduccion = traducciones[translate_key]\n",
    "        else:\n",
    "            print(f'Texto: {search_text} sin traducción')\n",
    "            traduccion = search_text\n",
    "        hit.x1 += 50\n",
    "        # page.draw_rect(hit, color=None, fill=pymupdf.pdfcolor['white'])\n",
    "        # page.insert_htmlbox(hit, ' '.join(traduccion.split('\\n')))\n",
    "        page.add_redact_annot(hit, ' '.join(traduccion.split('\\n')), fontname='helv', fontsize=20)\n",
    "    page.apply_redactions() \n",
    "\n",
    "doc.save(\"replaced.pdf\", garbage=0, deflate=True)"
   ]
  },
  {
   "cell_type": "code",
   "execution_count": null,
   "metadata": {},
   "outputs": [],
   "source": []
  },
  {
   "cell_type": "code",
   "execution_count": null,
   "metadata": {},
   "outputs": [],
   "source": []
  }
 ],
 "metadata": {
  "kernelspec": {
   "display_name": "hackaton",
   "language": "python",
   "name": "python3"
  },
  "language_info": {
   "codemirror_mode": {
    "name": "ipython",
    "version": 3
   },
   "file_extension": ".py",
   "mimetype": "text/x-python",
   "name": "python",
   "nbconvert_exporter": "python",
   "pygments_lexer": "ipython3",
   "version": "3.11.10"
  }
 },
 "nbformat": 4,
 "nbformat_minor": 2
}
