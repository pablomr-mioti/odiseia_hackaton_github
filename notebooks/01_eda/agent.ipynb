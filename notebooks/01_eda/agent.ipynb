{
 "cells": [
  {
   "cell_type": "code",
   "execution_count": 1,
   "metadata": {},
   "outputs": [
    {
     "ename": "NameError",
     "evalue": "name '__file__' is not defined",
     "output_type": "error",
     "traceback": [
      "\u001b[1;31m---------------------------------------------------------------------------\u001b[0m",
      "\u001b[1;31mNameError\u001b[0m                                 Traceback (most recent call last)",
      "Cell \u001b[1;32mIn[1], line 4\u001b[0m\n\u001b[0;32m      2\u001b[0m \u001b[38;5;28;01mimport\u001b[39;00m \u001b[38;5;21;01msys\u001b[39;00m\n\u001b[0;32m      3\u001b[0m \u001b[38;5;66;03m# sys.path.append(os.path.abspath('../'))\u001b[39;00m\n\u001b[1;32m----> 4\u001b[0m sys\u001b[38;5;241m.\u001b[39mpath\u001b[38;5;241m.\u001b[39mappend(os\u001b[38;5;241m.\u001b[39mpath\u001b[38;5;241m.\u001b[39mdirname(os\u001b[38;5;241m.\u001b[39mpath\u001b[38;5;241m.\u001b[39mabspath(\u001b[38;5;18;43m__file__\u001b[39;49m)))\n\u001b[0;32m      5\u001b[0m \u001b[38;5;28;01mfrom\u001b[39;00m \u001b[38;5;21;01mdata\u001b[39;00m \u001b[38;5;28;01mimport\u001b[39;00m setup_env\n\u001b[0;32m      6\u001b[0m \u001b[38;5;28;01mfrom\u001b[39;00m \u001b[38;5;21;01mpinecone_text\u001b[39;00m\u001b[38;5;21;01m.\u001b[39;00m\u001b[38;5;21;01msparse\u001b[39;00m \u001b[38;5;28;01mimport\u001b[39;00m BM25Encoder\n",
      "\u001b[1;31mNameError\u001b[0m: name '__file__' is not defined"
     ]
    }
   ],
   "source": [
    "import os\n",
    "import sys\n",
    "# sys.path.append(os.path.abspath('../'))\n",
    "sys.path.append(os.path.dirname(os.path.abspath(__file__)))\n",
    "from data import setup_env\n",
    "from pinecone_text.sparse import BM25Encoder\n",
    "from langchain_core.messages import AIMessage, HumanMessage, SystemMessage, RemoveMessage\n",
    "from langgraph.checkpoint.memory import MemorySaver\n",
    "from langgraph.graph import START, MessagesState, StateGraph\n",
    "from datetime import datetime\n",
    "from gtts import gTTS\n",
    "from playsound import playsound\n",
    "import speech_recognition as sr\n"
   ]
  },
  {
   "cell_type": "code",
   "execution_count": 2,
   "metadata": {},
   "outputs": [
    {
     "data": {
      "text/plain": [
       "True"
      ]
     },
     "execution_count": 2,
     "metadata": {},
     "output_type": "execute_result"
    }
   ],
   "source": [
    "from langchain_core.messages import AIMessage\n",
    "from langchain_core.tools import tool\n",
    "from langchain_openai import ChatOpenAI\n",
    "from langgraph.prebuilt import ToolNode\n",
    "import os\n",
    "from dotenv import load_dotenv\n",
    "from typing_extensions import Annotated\n",
    "from langgraph.prebuilt import InjectedState\n",
    "from langgraph.prebuilt import ToolNode, create_react_agent\n",
    "from langgraph.checkpoint.memory import MemorySaver\n",
    "from langgraph.store.base import BaseStore\n",
    "from langchain_core.runnables import RunnableConfig\n",
    "from langgraph.prebuilt import InjectedStore\n",
    "from langchain_core.documents import Document\n",
    "from typing import List, Tuple\n",
    "\n",
    "\n",
    "load_dotenv('../../.env')\n",
    "\n",
    "# @tool\n",
    "# def get_context(\n",
    "#     question: str,\n",
    "#     state\n",
    "# ) -> Tuple[str, List[Document]]:\n",
    "#     \"\"\"Provides a relevant context when the model does not have enough information to answer the question\"\"\"\n",
    "#     return \"angel fombellida\"\n",
    "# tools = [get_context]\n",
    "# tool_node = ToolNode(tools)\n",
    "\n",
    "# model = ChatOpenAI(\n",
    "#         model=os.getenv('OPENAI_MODEL'),\n",
    "#         api_key = os.getenv('OPENAI_API_KEY'),\n",
    "#         temperature=0.7,\n",
    "#         max_tokens=600,\n",
    "#         top_p=0.6,\n",
    "#         timeout=None,\n",
    "#         max_retries=2\n",
    "#     )\n",
    "\n",
    "# checkpointer = MemorySaver()\n",
    "# graph = create_react_agent(model, tools, checkpointer=checkpointer)"
   ]
  },
  {
   "cell_type": "code",
   "execution_count": 23,
   "metadata": {},
   "outputs": [
    {
     "data": {
      "text/plain": [
       "{'messages': [ToolMessage(content='Angel fombellida trabaja en metiora', name='get_context', tool_call_id='call_y6hlpsq6SaAV4mi5RrVUFIp6')]}"
      ]
     },
     "execution_count": 23,
     "metadata": {},
     "output_type": "execute_result"
    }
   ],
   "source": [
    "tool_node.invoke({\"messages\":[model.invoke(\"Donde trabaja angel fombellida?\")]})"
   ]
  },
  {
   "cell_type": "code",
   "execution_count": 101,
   "metadata": {},
   "outputs": [],
   "source": [
    "from langgraph.graph import START, END, StateGraph, MessagesState\n",
    "from langchain_core.messages import AIMessage, HumanMessage\n",
    "\n",
    "def should_continue(state: MessagesState):\n",
    "    messages = state[\"messages\"]\n",
    "    last_message = messages[-1]\n",
    "    if last_message.tool_calls:\n",
    "        return \"tools\"\n",
    "    return END\n",
    "\n",
    "\n",
    "@tool\n",
    "def get_context(\n",
    "    question: str,\n",
    "    state: MessagesState\n",
    ") -> Tuple[str, List[Document]]:\n",
    "    \"\"\"Provides a relevant context\"\"\" # when the model does not have enough information to answer the question\"\"\"\n",
    "    return \"angel fombellida\"\n",
    "\n",
    "\n",
    "def call_model(state: MessagesState):\n",
    "    messages = state[\"messages\"]\n",
    "    response = model.invoke(messages)\n",
    "    return {\"messages\": [response]}\n",
    "\n",
    "\n",
    "workflow = StateGraph(MessagesState)\n",
    "tools = [get_context]\n",
    "tool_node = ToolNode(tools)\n",
    "\n",
    "model = ChatOpenAI(\n",
    "        model=os.getenv('OPENAI_MODEL'),\n",
    "        api_key = os.getenv('OPENAI_API_KEY'),\n",
    "        temperature=0.7,\n",
    "        max_tokens=600,\n",
    "        top_p=0.6,\n",
    "        timeout=None,\n",
    "        max_retries=2\n",
    "    ).bind_tools(tools)\n",
    "\n",
    "\n",
    "# Define the two nodes we will cycle between\n",
    "workflow.add_node(\"agent\", call_model)\n",
    "workflow.add_node(\"tools\", tool_node)\n",
    "\n",
    "workflow.add_edge(START, \"agent\")\n",
    "workflow.add_conditional_edges(\"agent\", should_continue, [\"tools\", END])\n",
    "workflow.add_edge(\"tools\", \"agent\")\n",
    "\n",
    "app = workflow.compile(checkpointer = MemorySaver())"
   ]
  },
  {
   "cell_type": "code",
   "execution_count": 104,
   "metadata": {},
   "outputs": [
    {
     "data": {
      "text/plain": [
       "{'messages': [HumanMessage(content='i need relevant context', additional_kwargs={}, response_metadata={}, id='3b3870ac-8b1a-46c6-8fa4-149365ace905'),\n",
       "  AIMessage(content='Could you please provide me with the specific question or topic you need relevant context for? This will help me assist you better.', additional_kwargs={'refusal': None}, response_metadata={'token_usage': {'completion_tokens': 27, 'prompt_tokens': 2983, 'total_tokens': 3010, 'completion_tokens_details': {'accepted_prediction_tokens': 0, 'audio_tokens': 0, 'reasoning_tokens': 0, 'rejected_prediction_tokens': 0}, 'prompt_tokens_details': {'audio_tokens': 0, 'cached_tokens': 2816}}, 'model_name': 'gpt-4o-mini-2024-07-18', 'system_fingerprint': 'fp_72ed7ab54c', 'finish_reason': 'stop', 'logprobs': None}, id='run-c001afc6-b003-4c70-a3e7-3ad8b64f2669-0', usage_metadata={'input_tokens': 2983, 'output_tokens': 27, 'total_tokens': 3010, 'input_token_details': {'audio': 0, 'cache_read': 2816}, 'output_token_details': {'audio': 0, 'reasoning': 0}})]}"
      ]
     },
     "execution_count": 104,
     "metadata": {},
     "output_type": "execute_result"
    }
   ],
   "source": [
    "app.invoke({\"messages\": HumanMessage(content=\"i need relevant context\")}, config={\"thread_id\":1})"
   ]
  },
  {
   "cell_type": "code",
   "execution_count": 11,
   "metadata": {},
   "outputs": [],
   "source": [
    "from typing import Literal\n",
    "import sys\n",
    "sys.path.append(os.path.abspath('../../'))\n",
    "from langgraph.graph import StateGraph, MessagesState, START, END\n",
    "from pinecone_text.sparse import BM25Encoder\n",
    "from langchain_core.messages import AIMessage, HumanMessage, SystemMessage, RemoveMessage\n",
    "\n",
    "from datetime import datetime\n",
    "\n",
    "from src.d01_data.data import *\n",
    "\n",
    "def should_continue(state: MessagesState):\n",
    "    messages = state[\"messages\"]\n",
    "    last_message = messages[-1]\n",
    "    if last_message.tool_calls:\n",
    "        return \"tools\"\n",
    "    return END\n",
    "\n",
    "\n",
    "def call_model(state: MessagesState):\n",
    "    messages = state[\"messages\"]\n",
    "    response = model.invoke(messages)\n",
    "    return {\"messages\": [response]}\n",
    "\n",
    "    \n",
    "def cohere_rerank_texts(texts, query, co_client, rerank_model='rerank-v3.5', top_n=None, threshold_score=0.3, debug=False):\n",
    "    \"\"\"\n",
    "    Re-ranks a list of texts based on their similarity to a given query using the Cohere re-ranking API.\n",
    "\n",
    "    Args:\n",
    "        texts (list of str): A list of texts to be re-ranked.\n",
    "        query (str): The query used to rank the texts by relevance.\n",
    "        co_client (CohereClient): An instance of the Cohere client for accessing the rerank method.\n",
    "\n",
    "    Returns:\n",
    "        list of tuples: A list of tuples where each tuple contains:\n",
    "            - original_index (int): The original position of the text in the input list.\n",
    "            - new_rank (int): The new ranking based on relevance to the query.\n",
    "            - document (dict): The document object, containing the text.\n",
    "            - relevance_score (float): The relevance score assigned by the re-ranking model.\n",
    "    \"\"\"\n",
    "    documents = [{'text': doc} for doc in texts]\n",
    "    ranked_results = co_client.rerank(\n",
    "        query=query,\n",
    "        documents=documents,\n",
    "        top_n=top_n,  # Rank all documents\n",
    "        model=rerank_model,  # Specify the re-ranking model,\n",
    "    )\n",
    "    tmp_len = len(ranked_results.results)\n",
    "    ranked_results = [response for response in ranked_results.results if response.relevance_score >= threshold_score]\n",
    "    if tmp_len != len(ranked_results) and debug:\n",
    "        print(f'Se han eliminado {tmp_len - len(ranked_results)} chunks que no superaron el tresholds')\n",
    "        \n",
    "    # Create a list of tuples with original index, new rank, document, and relevance score\n",
    "    ranked_results = [(idx, rerank.index + 1, documents[rerank.index]['text'], rerank.relevance_score) for idx, rerank in enumerate(ranked_results, 1)]\n",
    "    \n",
    "    return ranked_results\n",
    "\n",
    "    \n",
    "def hybrid_scale(dense, sparse, alpha: float):\n",
    "    if alpha < 0 or alpha > 1:\n",
    "        raise ValueError('Alpha must be between 0 and 1')\n",
    "    hsparse = {\n",
    "        'indices': sparse['indices'],\n",
    "        'values':  [v * (1 - alpha) for v in sparse['values']]\n",
    "    }\n",
    "    hdense = [v * alpha for v in dense]\n",
    "    \n",
    "    return hdense, hsparse\n",
    "    \n",
    "    \n",
    "def hybrid_query(index, question, embedding_model, fitted_bm25, top_k, alpha, filter={}):\n",
    "    sparse_vec = fitted_bm25.encode_documents([question])[0]\n",
    "    dense_vec = embedding_model.embed_documents([question])[0]\n",
    "    dense_vec, sparse_vec = hybrid_scale(dense_vec, sparse_vec, alpha)\n",
    "    result = index.query(\n",
    "        vector=dense_vec,\n",
    "        sparse_vector=sparse_vec,\n",
    "        filter=filter,\n",
    "        top_k=top_k,\n",
    "        include_metadata=True\n",
    "    )\n",
    "    \n",
    "    return result\n",
    "\n",
    "\n",
    "def get_context2(question):\n",
    "    bm25 = BM25Encoder().default()\n",
    "    bm25.load('bm25_values.json')\n",
    "    print(f\"{datetime.now()}: Hybrid query...\")\n",
    "    results = hybrid_query(index= setup_db(\"hackaton\"),question=question,embedding_model=setup_embeddings(),fitted_bm25=bm25,top_k=10,alpha=0.7)\n",
    "\n",
    "    results_str = []\n",
    "    for match in results['matches']:\n",
    "        results_str.append(match['metadata']['text']) \n",
    "    \n",
    "    print(f\"{datetime.now()}: Reranking...\")\n",
    "    reranked = cohere_rerank_texts(\n",
    "        texts=results_str,\n",
    "        query=question,\n",
    "        co_client=setup_cohere(),\n",
    "        rerank_model='rerank-v3.5',\n",
    "        top_n=5,\n",
    "        threshold_score=0.3\n",
    "    )\n",
    "    return '\\n\\n'.join([f'Ranking {i}:\\n{text[2]}' for i, text in enumerate(reranked, 1)][::-1])\n",
    "\n",
    "\n",
    "@tool\n",
    "def get_context(\n",
    "    question: str,\n",
    "    state: MessagesState\n",
    ") -> Tuple[str, List[Document]]:\n",
    "    \"\"\"Provides a relevant context when the model does not have enough information to answer the question\"\"\"\n",
    "    if isinstance(state[\"messages\"][-1], AIMessage):\n",
    "        summary = state[\"messages\"].pop(-1)\n",
    "        state[\"messages\"].insert(1,summary)\n",
    "    questions = []\n",
    "    # if isinstance(state[\"messages\"][1], AIMessage):\n",
    "    #     questions.append(state[\"messages\"][1].content)\n",
    "    # for x in state[\"messages\"]:\n",
    "    #     if isinstance(x, HumanMessage):\n",
    "    #         questions.append(x.content)\n",
    "    questions = [state[\"messages\"][-1].content]\n",
    "    context = get_context2('\\n'.join(questions))\n",
    "    question_with_context = f\"\"\"\n",
    "        <pregunta>\n",
    "            {state['messages'][-1].content}\n",
    "        </pregunta>\n",
    "        <contexto>\n",
    "            Aquí tienes el contenido complementario que has de usar para responder la pregunta:\n",
    "            {context}\n",
    "        <\\contexto>\"\"\"\n",
    "    messages = state[\"messages\"][:-1] + [HumanMessage(content=question_with_context)] + [RemoveMessage(id = state[\"messages\"][-1].id)]\n",
    "    \n",
    "    return {\"messages\": messages}\n",
    "\n",
    "\n",
    "tools = [get_context]\n",
    "tool_node = ToolNode(tools)\n",
    "model = ChatOpenAI(\n",
    "        model=os.getenv('OPENAI_MODEL'),\n",
    "        api_key = os.getenv('OPENAI_API_KEY'),\n",
    "        temperature=0.7,\n",
    "        max_tokens=600,\n",
    "        top_p=0.6,\n",
    "        timeout=None,\n",
    "        max_retries=2\n",
    "    ).bind_tools(tools)\n",
    "\n",
    "workflow = StateGraph(MessagesState)\n",
    "\n",
    "# Define the two nodes we will cycle between\n",
    "workflow.add_node(\"agent\", call_model)\n",
    "workflow.add_node(\"tools\", tool_node)\n",
    "\n",
    "workflow.add_edge(START, \"agent\")\n",
    "workflow.add_conditional_edges(\"agent\", should_continue, [\"tools\", END])\n",
    "workflow.add_edge(\"tools\", \"agent\")\n",
    "\n",
    "app = workflow.compile(checkpointer=MemorySaver())"
   ]
  },
  {
   "cell_type": "code",
   "execution_count": 28,
   "metadata": {},
   "outputs": [
    {
     "data": {
      "text/plain": [
       "{'messages': [HumanMessage(content='no soy ciudadano de la UE ni tengo antecedentes penales. Que tipo de autorizacion debo solicitar?', additional_kwargs={}, response_metadata={}, id='f4094683-212b-428f-915d-cb4eaaf88aed'),\n",
       "  AIMessage(content='Para poder ayudarte mejor, necesitaría un poco más de información sobre el contexto en el que deseas solicitar una autorización. Por ejemplo, ¿estás interesado en trabajar, estudiar, residir o visitar un país de la Unión Europea? Dependiendo de tu situación y del país específico al que desees ir, los requisitos pueden variar.', additional_kwargs={'refusal': None}, response_metadata={'token_usage': {'completion_tokens': 68, 'prompt_tokens': 3011, 'total_tokens': 3079, 'completion_tokens_details': {'accepted_prediction_tokens': 0, 'audio_tokens': 0, 'reasoning_tokens': 0, 'rejected_prediction_tokens': 0}, 'prompt_tokens_details': {'audio_tokens': 0, 'cached_tokens': 0}}, 'model_name': 'gpt-4o-mini-2024-07-18', 'system_fingerprint': 'fp_72ed7ab54c', 'finish_reason': 'stop', 'logprobs': None}, id='run-88698658-7f07-4c1b-b3c8-c685033e08e1-0', usage_metadata={'input_tokens': 3011, 'output_tokens': 68, 'total_tokens': 3079, 'input_token_details': {'audio': 0, 'cache_read': 0}, 'output_token_details': {'audio': 0, 'reasoning': 0}})]}"
      ]
     },
     "execution_count": 28,
     "metadata": {},
     "output_type": "execute_result"
    }
   ],
   "source": [
    "# example with a single tool call\n",
    "app.invoke({\"messages\": [(\"human\", \"no soy ciudadano de la UE ni tengo antecedentes penales. Que tipo de autorizacion debo solicitar?\")]}, config={\"thread_id\":1})#, stream_mode=\"values\""
   ]
  },
  {
   "cell_type": "code",
   "execution_count": 15,
   "metadata": {},
   "outputs": [
    {
     "name": "stdout",
     "output_type": "stream",
     "text": [
      "2025-02-14 13:05:04.102277: Hybrid query...\n",
      "The index hackaton already exists\n",
      "2025-02-14 13:05:08.256638: Reranking...\n"
     ]
    },
    {
     "data": {
      "text/plain": [
       "{'messages': [HumanMessage(content='ya he presentado el EX-10, que hago?', additional_kwargs={}, response_metadata={}, id='8ac7c63a-c41b-47df-b908-b7e877cfbf19'),\n",
       "  AIMessage(content='', additional_kwargs={'tool_calls': [{'id': 'call_sbsFUZtr41ZotpcMBfF6UUWC', 'function': {'arguments': '{\"question\":\"ya he presentado el EX-10, que hago?\",\"state\":{\"messages\":[{\"content\":\"ya he presentado el EX-10, que hago?\",\"type\":\"human\"}]}}', 'name': 'get_context'}, 'type': 'function'}], 'refusal': None}, response_metadata={'token_usage': {'completion_tokens': 50, 'prompt_tokens': 3002, 'total_tokens': 3052, 'completion_tokens_details': {'accepted_prediction_tokens': 0, 'audio_tokens': 0, 'reasoning_tokens': 0, 'rejected_prediction_tokens': 0}, 'prompt_tokens_details': {'audio_tokens': 0, 'cached_tokens': 2944}}, 'model_name': 'gpt-4o-mini-2024-07-18', 'system_fingerprint': 'fp_bd83329f63', 'finish_reason': 'tool_calls', 'logprobs': None}, id='run-6b0c6292-52ee-45c3-80e0-99305f47c03a-0', tool_calls=[{'name': 'get_context', 'args': {'question': 'ya he presentado el EX-10, que hago?', 'state': {'messages': [{'content': 'ya he presentado el EX-10, que hago?', 'type': 'human'}]}}, 'id': 'call_sbsFUZtr41ZotpcMBfF6UUWC', 'type': 'tool_call'}], usage_metadata={'input_tokens': 3002, 'output_tokens': 50, 'total_tokens': 3052, 'input_token_details': {'audio': 0, 'cache_read': 2944}, 'output_token_details': {'audio': 0, 'reasoning': 0}}),\n",
       "  ToolMessage(content=\"{'messages': [HumanMessage(content='\\\\n        <pregunta>\\\\n            ya he presentado el EX-10, que hago?\\\\n        </pregunta>\\\\n        <contexto>\\\\n            Aquí tienes el contenido complementario que has de usar para responder la pregunta:\\\\n            \\\\n        <\\\\\\\\contexto>', additional_kwargs={}, response_metadata={}), RemoveMessage(content='', additional_kwargs={}, response_metadata={})]}\", name='get_context', id='9dc8dd10-dc98-4246-95e2-2320e5a4552a', tool_call_id='call_sbsFUZtr41ZotpcMBfF6UUWC'),\n",
       "  AIMessage(content='Parece que has presentado el EX-10. Aquí hay algunos pasos que podrías considerar:\\n\\n1. **Confirma la Recepción**: Asegúrate de que la presentación ha sido recibida y aceptada. Si es posible, verifica con la persona o entidad a la que lo presentaste.\\n\\n2. **Revisa los Resultados**: Si es un examen o proyecto, espera los resultados o comentarios. Si hay un plazo para recibir retroalimentación, asegúrate de estar atento a ello.\\n\\n3. **Prepárate para la Siguiente Etapa**: Si el EX-10 es parte de un proceso más grande (como un curso o proyecto), comienza a prepararte para los siguientes pasos o tareas.\\n\\n4. **Solicita Retroalimentación**: Si es posible, pide retroalimentación sobre tu presentación para mejorar en el futuro.\\n\\n5. **Tómate un Descanso**: Si has estado trabajando duro en el EX-10, tómate un tiempo para relajarte y recargar energías.\\n\\nSi tienes un contexto más específico sobre qué es el EX-10, podría darte recomendaciones más precisas.', additional_kwargs={'refusal': None}, response_metadata={'token_usage': {'completion_tokens': 234, 'prompt_tokens': 3144, 'total_tokens': 3378, 'completion_tokens_details': {'accepted_prediction_tokens': 0, 'audio_tokens': 0, 'reasoning_tokens': 0, 'rejected_prediction_tokens': 0}, 'prompt_tokens_details': {'audio_tokens': 0, 'cached_tokens': 2944}}, 'model_name': 'gpt-4o-mini-2024-07-18', 'system_fingerprint': 'fp_bd83329f63', 'finish_reason': 'stop', 'logprobs': None}, id='run-832689ca-6220-45f3-a036-17ed5b0fd0d9-0', usage_metadata={'input_tokens': 3144, 'output_tokens': 234, 'total_tokens': 3378, 'input_token_details': {'audio': 0, 'cache_read': 2944}, 'output_token_details': {'audio': 0, 'reasoning': 0}}),\n",
       "  HumanMessage(content='no dispongo del certificado de antecedentes penales', additional_kwargs={}, response_metadata={}, id='07044ad2-da31-457a-95ad-c7c00dadd7ef'),\n",
       "  AIMessage(content='', additional_kwargs={'tool_calls': [{'id': 'call_0NyK0lliaplefGRKTpl3bKLK', 'function': {'arguments': '{\"question\":\"no dispongo del certificado de antecedentes penales\",\"state\":{\"messages\":[{\"content\":\"no dispongo del certificado de antecedentes penales\",\"type\":\"human\"}]}}', 'name': 'get_context'}, 'type': 'function'}], 'refusal': None}, response_metadata={'token_usage': {'completion_tokens': 46, 'prompt_tokens': 3393, 'total_tokens': 3439, 'completion_tokens_details': {'accepted_prediction_tokens': 0, 'audio_tokens': 0, 'reasoning_tokens': 0, 'rejected_prediction_tokens': 0}, 'prompt_tokens_details': {'audio_tokens': 0, 'cached_tokens': 3328}}, 'model_name': 'gpt-4o-mini-2024-07-18', 'system_fingerprint': 'fp_bd83329f63', 'finish_reason': 'tool_calls', 'logprobs': None}, id='run-c32cf0d3-7a3f-428c-ae81-9e3357d3e849-0', tool_calls=[{'name': 'get_context', 'args': {'question': 'no dispongo del certificado de antecedentes penales', 'state': {'messages': [{'content': 'no dispongo del certificado de antecedentes penales', 'type': 'human'}]}}, 'id': 'call_0NyK0lliaplefGRKTpl3bKLK', 'type': 'tool_call'}], usage_metadata={'input_tokens': 3393, 'output_tokens': 46, 'total_tokens': 3439, 'input_token_details': {'audio': 0, 'cache_read': 3328}, 'output_token_details': {'audio': 0, 'reasoning': 0}}),\n",
       "  ToolMessage(content=\"{'messages': [HumanMessage(content='\\\\n        <pregunta>\\\\n            no dispongo del certificado de antecedentes penales\\\\n        </pregunta>\\\\n        <contexto>\\\\n            Aquí tienes el contenido complementario que has de usar para responder la pregunta:\\\\n            Ranking 5:\\\\norientacion\\\\nHI 39.pdf \\\\n 1/4\\\\nQue su traslado al país del que son originarios o proceden, a efectos de solicitar el visado que corresponda, implique un\\\\npeligro para su seguridad o la de su familia y que reúnen el resto de los requisitos para obtener una autorización\\\\ntemporal de residencia o residencia y trabajo.\\\\nDocumentación exigible\\\\nNota: con carácter general se deberán aportar copias de los documentos y exhibir los originales en el momento de presentar la\\\\nsolicitud.\\\\nImpreso de solicitud en modelo oficial (EX–10) por duplicado, debidamente cumplimentado y firmado por el extranjero.\\\\nCopia del Pasaporte completo, título de viaje o cédula de inscripción con vigencia mínima de cuatro meses.\\\\nCertificado de antecedentes penales expedido por las Autoridades del país o países en los que haya residido durante los cinco\\\\núltimos años anteriores a la entrada en España.\\\\nDocumentación acreditativa de las circunstancias humanitarias, que será:\\\\nSi es víctima de cualquiera de los delitos mencionados, resolución judicial que finalice el procedimiento judicial que\\\\nestablezca la condición de víctima.\\\\nSi sufre enfermedad sobrevenida o es un menor extranjero desplazado para tratamiento médico, informe clínico expedido\\\\npor la autoridad sanitaria correspondiente.\\\\nLos extranjeros cuyo traslado a su país implica un peligro para su seguridad o la de su familia, deberán aportar:\\\\nDocumentación acreditativa de que su traslado implica un peligro para su seguridad o la de su familia.\\\\nDocumentación acreditativa de disponer de medios económicos. Si no tiene medios económicos propios podrá\\\\nsolicitar personalmente, de manera simultánea con la solicitud de circunstancias excepcionales autorización para\\\\ntrabajar por cuenta ajena o propia.\\\\nNota importante:\\\\xa0cuando se aporten documentos de otros países deberán estar\\\\xa0traducidos\\\\xa0al castellano o lengua cooficial del\\\\nterritorio donde se presente la solicitud.\\\\nPor otro lado, todo\\\\xa0documento público extranjero\\\\xa0deberá ser\\\\xa0previamente legalizado\\\\xa0por la Oficina consular de España con\\\\n\\\\nRanking 4:\\\\nboe\\\\nBOE-A-2011-7703-consolidado.pdf \\\\n TÍTULO IV \\\\n CAPÍTULO III \\\\n Sección SIN ASIGNAR \\\\n Artículo 70  Visado de residencia y trabajo y entrada en España \\\\n 1. Serán requisitos para la concesión del visado: a)  Que  el  extranjero  sea  titular  de  una  autorización  inicial  de  residencia  temporal  y trabajo por cuenta ajena. b)  En  el  caso  de  que  el  solicitante  sea  mayor  de  edad  penal,  que  carezca  de  antecedentes penales en su país de origen o en sus países anteriores de residencia durante  los últimos cinco años, por delitos previstos en el ordenamiento español. c)  Que  el  extranjero  no  padezca  ninguna  de  las  enfermedades  que  pueden  tener  repercusiones  de  salud  pública  graves  de  conformidad  con  lo  dispuesto  en  el  Reglamento  Sanitario Internacional de 2005. d) Que el extranjero haya abonado la tasa por tramitación del procedimiento. 2.  En  el  plazo  de  un  mes  desde  la  notificación  de  la  concesión  de  la  autorización  al  empleador  interesado,  el  trabajador  deberá  solicitar  personalmente  el  visado  en  la  Misión  diplomática  u  Oficina  consular  en  cuya  demarcación  resida.  El  Ministerio  de  Asuntos  Exteriores  y  de  Cooperación,  si  media  causa  que  lo  justifique,  podrá  determinar  la  misión  diplomática  u  oficina  consular  diferente  a  la  anterior  en  la  que  corresponda  presentar  la  solicitud de visado. De  acuerdo  con  lo  previsto  por  la  disposición  adicional  tercera  de  la  Ley  Orgánica  4/2000, podrá realizarse la presentación por un representante legalmente acreditado cuando  existan motivos fundados que obstaculicen el desplazamiento del solicitante, como la lejanía  de la misión u oficina, dificultades de transporte que hagan el viaje especialmente gravoso o  razones  acreditadas  de  enfermedad  o  condición  física  que  dificulten  sensiblemente  su  movilidad, o cuando se trate de un menor. Sin  perjuicio  de  lo  anterior,  cuando  a  través  del  poder  de  representación,  de  otros  documentos  aportados  en  la  solicitud  o  de  datos  que  consten  en  la  Administración,  se  evidenciase  que  el  extranjero  para  el  que  se  solicita  el  visado  se  hallaba  en  España  en  situación irregular en la fecha en que se presentó a su favor la solicitud de autorización inicial  de  residencia  temporal  y  trabajo  por  cuenta  ajena,  se  inadmitirá  a  trámite  o,  si  tal  circunstancia se advirtiera en un momento posterior, se denegará la solicitud de visado. 3. La solicitud de visado deberá ir acompañada de la siguiente documentación: a)  Pasaporte  ordinario  o  título  de  viaje,  reconocido  como  válido  en  España,  con  una vigencia mínima de cuatro meses. b) Certificado de antecedentes penales, que debe ser expedido por las autoridades del  país de origen o del país o países en que haya residido durante los últimos cinco años, en el  que no deben constar condenas por delitos previstos en el ordenamiento español. c) Certificado médico con el fin de acreditar que no padece ninguna de las enfermedades  que pueden tener repercusiones de salud pública graves de conformidad con lo dispuesto en  el Reglamento Sanitario Internacional de 2005. d)  Copia  del  contrato  en  relación  con  el  cual  se  ha  concedido  la  autorización  inicial  de residencia temporal y trabajo por cuenta ajena, sellada por la Oficina de Extranjería. De oficio, la misión diplomática u oficina consular verificará, en la aplicación informática  correspondiente, que se ha concedido la autorización inicial de residencia temporal y trabajo  por cuenta\\\\n\\\\nRanking 3:\\\\nTema 10 DERECHO DE EXTRANJERÍA\\\\nRd 1155_24.pdf \\\\n TÍTULO VII \\\\n CAPÍTULO I \\\\n Sección 4.ª Procedimiento, autorización de trabajo y prórroga de la situación \\\\n Artículo 130  Procedimiento \\\\n 1.  La  autorización  de  residencia  temporal  por  circunstancias  excepcionales,  que  no  requerirá  visado,  deberá  ser  solicitada  personalmente  por  la  persona  extranjera  ante  el  órgano  competente  para  su  tramitación,  salvo  en  el  caso  de  menores  o  de  personas  con  discapacidad  que  precisan  el  apoyo  de  otra  persona  para  el  ejercicio  de  su  capacidad  jurídica,  en  el  que  podrá  presentar  la  solicitud  su  representante  legal,  o  la  persona  que  presta dicho apoyo, acompañada de la siguiente documentación: a) Copia completa del pasaporte en vigor, cédula de inscripción o título de viaje en vigor, reconocido como válido en España. b) En los casos en que se exija, contrato de trabajo firmado por la persona trabajadora y el empleador. c) Documentación acreditativa de encontrarse en alguna de las situaciones a las que se refieren los artículos anteriores. 2. En particular, para los supuestos de arraigo, y los establecidos en los artículos 128.3 y  el  129.2,  cuando  la  persona  interesada  sea  mayor  de  edad  penal,  se  deberá  aportar  un  certificado de antecedentes penales expedido por las autoridades del país o países en que  haya  residido  durante  los  cinco  años  anteriores  a  su  entrada  en  España,  en  el  que  no  deberán constar condenas por delitos existentes en el ordenamiento jurídico español. La  oficina  de  extranjería  recabará  de  oficio  el  informe  del  registro  central  de  penados  para  comprobar  la  inexistencia  de  antecedentes  penales  en  España  y  recabará  informe  policial sobre la persona solicitante. Estos informes serán emitidos en el plazo de siete días. No  será  preciso  acreditar  la  inexistencia  de  antecedentes  en  un  tercer  país  cuando concurra alguno de los siguientes supuestos: 1.º  Haber  permanecido  de  forma  continuada  en  España  durante  los  últimos  cinco  años inmediatamente anteriores a la fecha de presentación de la solicitud. 2.º Haber acreditado esa circunstancia en otra solicitud anterior dentro de los cinco años  inmediatamente  anteriores  a  la  fecha  de  presentación  de  la  solicitud  sin  que  se  haya  ausentado desde entonces del territorio nacional. La  existencia  de  antecedentes  en  el  informe  policial  no  supondrá,  por  sí  misma  y  de  forma  automática,  causa  de  denegación  de  la  autorización.  En  ese  caso,  el  órgano  competente  valorará  de  forma  casuística  y  circunstanciada,  que  la  persona  extranjera  no  suponga  una  amenaza  para  el  orden  público,  la  seguridad  interior,  la  salud  pública  o  las  relaciones internacionales de ninguno de los Estados miembros de la Unión Europea. 3.  El  órgano  competente  para  resolver  comprobará  si  con  la  solicitud  se  acompaña  la  documentación  exigida  y,  si  estuviera  incompleta,  formulará  a  la  persona  solicitante  el  oportuno requerimiento a fin de que se subsanen los defectos observados en el plazo que se  señale en la notificación, que no podrá ser superior quince días, advirtiéndole de que de no  subsanarse en plazo se le tendrá por desistido de su solicitud y se procederá al archivo de  su expediente. 4.  En  los  supuestos  a  los  que  se  refiere  el  artículo  129.1  la  competencia  para  su resolución corresponderá: a)  A  la  persona  titular  de  la  Secretaría\\\\n\\\\nRanking 2:\\\\norientacion\\\\nHI 37.pdf \\\\n solicitud.\\\\nImpreso de solicitud en modelo oficial (EX–10) por duplicado, debidamente cumplimentado y firmado por el extranjero.\\\\nCopia completa del pasaporte, título de viaje o cédula de inscripción con vigencia mínima de cuatro meses.\\\\nCertificado de antecedentes penales expedido por las Autoridades del país o países en los que haya residido durante los cinco\\\\núltimos años anteriores a la entrada en España.\\\\nCuando se trate de padre, o madre o tutor de un menor de nacionalidad española:\\\\nCertificado de nacimiento del menor de nacionalidad española en el que conste el vínculo familiar y la nacionalidad\\\\nespañola de dicho menor, en su caso, documento legal de tutela del menor.\\\\nCuando se trate de persona que presta apoyo a una persona española con discapacidad:\\\\nDocumentación acreditativa de la discapacidad del ciudadano español, o de la necesidad de medidas de apoyo para el\\\\nejercicio de su capacidad jurídica, así como de encontrarse a su cargo y convivir con él.\\\\nDNI del ciudadano español.\\\\nCuando se trate del cónyuge o pareja de hecho acreditada de ciudadano o ciudadana de nacionalidad española,\\\\nascendiente mayor de 65 años o menor de 65 años a cargo, descendiente menor de 21 años o mayor de 21 años a cargo,\\\\nde ciudadano o ciudadana de nacionalidad española, o de su cónyuge o pareja de hecho:\\\\nDocumentación acreditativa de la existencia del vínculo familiar con el ciudadano español, o de la existencia de una pareja\\\\nregistrada, en su caso, de encontrase a cargo del ciudadano español.\\\\nDNI del ciudadano español.\\\\nCuando se trate de hijo de padre o madre que hubieran sido originariamente españoles:\\\\nCertificado de nacimiento del solicitante.\\\\nCertificado de nacimiento del padre o madre originariamente español y/o certificado del Registro Civil que acredite dicha\\\\ncondición.\\\\nNota importante: cuando se aporten documentos de otros países deberán estar traducidos al castellano o lengua cooficial del\\\\nterritorio donde se presente la solicitud por un traductor oficial. Lista de traductores jurados.\\\\n\\\\nRanking 1:\\\\nboe\\\\nBOE-A-2011-7703-consolidado.pdf \\\\n TÍTULO IV \\\\n CAPÍTULO I \\\\n Sección SIN ASIGNAR \\\\n Artículo 48  Procedimiento \\\\n 1.  El  extranjero  que  desee  residir  temporalmente  en  España  sin  realizar  actividades  laborales o profesionales deberá solicitar, personalmente, el correspondiente visado, según  el modelo oficial, en la misión diplomática u oficina consular española de su demarcación de  residencia.  El  Ministerio  de  Asuntos  Exteriores  y  de  Cooperación,  si  media  causa  que  lo  justifique, podrá determinar otra misión diplomática u oficina consular en la que corresponda  presentar la solicitud. La  solicitud  del  visado  conllevará  la  de  la  autorización  de  residencia  temporal  no lucrativa. 2. A la solicitud deberá acompañar: a)  Pasaporte  en  vigor  o  título  de  viaje,  reconocido  como  válido  en  España,  con  una vigencia mínima de un año. b)  Certificado  de  antecedentes  penales,  o  documento  equivalente,  en  el  caso  de  solicitante mayor de edad penal, expedido por las autoridades del país de origen o del país o  países en que haya residido durante los últimos cinco años, y que acredite el cumplimiento  del requisito previsto en el apartado b) del artículo 46. c)  Los  documentos  que  acrediten  el  cumplimiento  de  los  requisitos  previstos  en  los apartados d) y e) del artículo 46. d) Certificado médico que acredite el cumplimiento del requisito previsto en el apartado g) del artículo 46. 3.  Presentada  la  solicitud,  será  grabada  en  el  sistema  de  visados  de  la  aplicación  correspondiente,  de  forma  que  la  Delegación  o  Subdelegación  del  Gobierno  en  cuya  demarcación solicite la residencia el extranjero tenga constancia de la solicitud presentada,  así  como  de  la  documentación  que  la  acompaña  en  lo  relativo  a  los  requisitos  que  le  corresponde valorar. 4. La Delegación o Subdelegación del Gobierno, en el plazo máximo de un mes desde la  recepción  de  la  solicitud,  resolverá  la  concesión  o  denegación  de  la  autorización  de  residencia,  previa  valoración  del  cumplimiento  del  requisito  previsto  en  el  apartado  f)  del  artículo  46,  así  como  del  previsto  en  su  apartado  b)  en  lo  que  respecta  a  la  carencia  de  antecedentes penales en España. A  dichos  efectos,  recabará  de  oficio  el  informe  de  los  servicios  competentes  de  la  Dirección General de la Policía y la Guardia Civil en materia de seguridad y orden público,  así como el del Registro Central de Penados. La  Delegación  o  Subdelegación  del  Gobierno  grabará  la  resolución  en  la  aplicación  correspondiente,  para  su  conocimiento  por  el  Ministerio  de  Asuntos  Exteriores  y  de  Cooperación y por la oficina consular o misión diplomática correspondiente. La eficacia de la  autorización  quedará  supeditada  a  la  expedición,  en  su  caso,  del  visado  y  a  la  efectiva  entrada del extranjero en territorio nacional. 5.  Si  la  resolución  es  desfavorable,  y  así  se  entenderá  si  en  el  plazo  de  un  mes  no  se  comunica,  la  misión  diplomática  u  oficina  consular  notificará  al  interesado  la  resolución.  Igualmente,  la  misión  diplomática  u  oficina  consular  resolverá  el  archivo  del  procedimiento  relativo al visado. 6.  Concedida,  en  su  caso,  la  autorización,  la  misión  diplomática  u  oficina\\\\n        <\\\\\\\\contexto>', additional_kwargs={}, response_metadata={}), RemoveMessage(content='', additional_kwargs={}, response_metadata={})]}\", name='get_context', id='d3bd0285-eb13-4f1b-8a7f-cacc0af17592', tool_call_id='call_0NyK0lliaplefGRKTpl3bKLK'),\n",
       "  AIMessage(content='Si no dispones del certificado de antecedentes penales, aquí hay algunos pasos que puedes seguir:\\n\\n1. **Solicitar el Certificado**: Dirígete a las autoridades competentes en tu país de origen o en los países donde has residido en los últimos cinco años para solicitar el certificado de antecedentes penales. Este proceso puede variar según el país, así que asegúrate de seguir los procedimientos específicos.\\n\\n2. **Verifica los Requisitos**: Asegúrate de tener todos los documentos necesarios para solicitar el certificado, como tu identificación, pasaporte y cualquier otro documento que pueda ser requerido.\\n\\n3. **Alternativas**: Si no puedes obtener el certificado por alguna razón, consulta con la entidad o autoridad que lo requiere para ver si hay alternativas o excepciones disponibles. A veces, pueden aceptar otros documentos o pruebas que demuestren tu situación.\\n\\n4. **Documentación Adicional**: Si estás solicitando un visado o residencia, asegúrate de tener toda la otra documentación necesaria lista, como tu pasaporte, contrato de trabajo, y cualquier otro documento relevante.\\n\\n5. **Tiempo de Espera**: Ten en cuenta que la obtención del certificado puede tomar tiempo, así que inicia el proceso lo antes posible.\\n\\nRecuerda que es importante cumplir con todos los requisitos establecidos por la autoridad que te lo solicita para evitar retrasos en tu trámite.', additional_kwargs={'refusal': None}, response_metadata={'token_usage': {'completion_tokens': 280, 'prompt_tokens': 7350, 'total_tokens': 7630, 'completion_tokens_details': {'accepted_prediction_tokens': 0, 'audio_tokens': 0, 'reasoning_tokens': 0, 'rejected_prediction_tokens': 0}, 'prompt_tokens_details': {'audio_tokens': 0, 'cached_tokens': 3328}}, 'model_name': 'gpt-4o-mini-2024-07-18', 'system_fingerprint': 'fp_bd83329f63', 'finish_reason': 'stop', 'logprobs': None}, id='run-ceb7d2b2-3cdd-4f2f-aaa8-52f926efac44-0', usage_metadata={'input_tokens': 7350, 'output_tokens': 280, 'total_tokens': 7630, 'input_token_details': {'audio': 0, 'cache_read': 3328}, 'output_token_details': {'audio': 0, 'reasoning': 0}}),\n",
       "  HumanMessage(content='para continuar mi solicitud de residencia temporal, que puedo hacer?', additional_kwargs={}, response_metadata={}, id='42a500a8-69f6-4209-9f1d-01fd0820e138'),\n",
       "  AIMessage(content='', additional_kwargs={'tool_calls': [{'id': 'call_zoJElUkxas340dMz5REx36VA', 'function': {'arguments': '{\"question\":\"para continuar mi solicitud de residencia temporal, que puedo hacer?\",\"state\":{\"messages\":[{\"content\":\"para continuar mi solicitud de residencia temporal, que puedo hacer?\",\"type\":\"human\"}]}}', 'name': 'get_context'}, 'type': 'function'}], 'refusal': None}, response_metadata={'token_usage': {'completion_tokens': 52, 'prompt_tokens': 7648, 'total_tokens': 7700, 'completion_tokens_details': {'accepted_prediction_tokens': 0, 'audio_tokens': 0, 'reasoning_tokens': 0, 'rejected_prediction_tokens': 0}, 'prompt_tokens_details': {'audio_tokens': 0, 'cached_tokens': 7552}}, 'model_name': 'gpt-4o-mini-2024-07-18', 'system_fingerprint': 'fp_bd83329f63', 'finish_reason': 'tool_calls', 'logprobs': None}, id='run-f44d9161-0e59-4e56-b2fb-694b6bc38832-0', tool_calls=[{'name': 'get_context', 'args': {'question': 'para continuar mi solicitud de residencia temporal, que puedo hacer?', 'state': {'messages': [{'content': 'para continuar mi solicitud de residencia temporal, que puedo hacer?', 'type': 'human'}]}}, 'id': 'call_zoJElUkxas340dMz5REx36VA', 'type': 'tool_call'}], usage_metadata={'input_tokens': 7648, 'output_tokens': 52, 'total_tokens': 7700, 'input_token_details': {'audio': 0, 'cache_read': 7552}, 'output_token_details': {'audio': 0, 'reasoning': 0}}),\n",
       "  ToolMessage(content=\"{'messages': [HumanMessage(content='\\\\n        <pregunta>\\\\n            para continuar mi solicitud de residencia temporal, que puedo hacer?\\\\n        </pregunta>\\\\n        <contexto>\\\\n            Aquí tienes el contenido complementario que has de usar para responder la pregunta:\\\\n            Ranking 5:\\\\nTema 10 DERECHO DE EXTRANJERÍA\\\\nRd 1155_24.pdf \\\\n TÍTULO IV \\\\n CAPÍTULO V \\\\n Sección SIN ASIGNAR \\\\n Artículo 89  Requisitos y procedimiento \\\\n 1. La persona trabajadora extranjera no residente en España que esté exceptuada de la  obligación  de  obtener  autorización  de  trabajo  para  el  ejercicio  de  una  actividad  lucrativa,  laboral  o  profesional,  y  siempre  que  la  duración  prevista  de  la  actividad  sea  superior  a  noventa  días  naturales,  deberá  presentar  una  solicitud  de  autorización  de  residencia  temporal  con  excepción  de  la  autorización  de  trabajo  ante  el  órgano  competente  para  su  tramitación  o,  en  el  caso  de  encontrarse  fuera  de  España,  una  solicitud  de  visado  de  residencia ante la oficina consular española correspondiente a su lugar de residencia. La solicitud del visado de residencia conllevará la solicitud de autorización de residencia temporal con excepción de la autorización de trabajo. 2.  Los  requisitos  para  la  obtención  de  una  autorización  de  residencia  temporal  con excepción de la autorización de trabajo serán: a)  La  acreditación  de  encontrarse  en  alguno  de  los  supuestos  de  excepción  de  la autorización de trabajo. b) No encontrarse, en su caso, dentro del plazo de compromiso de no retorno a España que la persona extranjera haya asumido al retornar voluntariamente a su país de origen. c)  No  representar  una  amenaza  para  el  orden  público,  la  seguridad  pública  o  la  salud  pública,  circunstancia  que  se  acreditará  mediante  la  comprobación  de  la  inexistencia  de  antecedentes penales en España y la valoración del informe policial correspondiente. d) Haber abonado la tasa por tramitación del procedimiento. 3. La solicitud de visado se tramitará de acuerdo con lo establecido en el capítulo IV del título II. 4.  Para  la  valoración  del  requisito  establecido  en  la  letra  c)  del  apartado  segundo  del  presente artículo, la oficina de extranjería recabará de oficio el informe del registro central de  penados y el informe policial sobre la persona solicitante. Estos informes serán emitidos en  el plazo de siete días. La  existencia  de  antecedentes  en  el  informe  policial  no  supondrá,  por  sí  misma  y  de  forma  automática,  causa  de  denegación  de  la  autorización.  En  ese  caso,  el  órgano  competente  valorará  de  forma  casuística  y  circunstanciada,  que  la  persona  extranjera  no  suponga  una  amenaza  para  el  orden  público,  la  seguridad  interior,  la  salud  pública  o  las  relaciones internacionales de ninguno de los Estados miembros de la Unión Europea. 5. En caso de que la persona extranjera se encuentre regularmente en España, deberá  solicitar  la  autorización  de  residencia  temporal  con  excepción  de  la  autorización  de  trabajo  ante  la  oficina  de  extranjería  correspondiente  a  la  provincia  donde  se  inicie  la  actividad,  aportando  la  documentación  que  lo  justifique.  La  solicitud  deberá  presentarse  con  una antelación mínima de dos meses a la fecha de expiración de la situación legal en la que se  encuentre. En  este  supuesto  la  oficina  de  extranjería  verificará  el  cumplimiento  de  los  requisitos previstos en el artículo 38, salvo el previsto en los apartados f) y h). El  plazo  máximo  para  notificar  la  resolución  del  Subdelegado  o  delegado  del  Gobierno  competente será de dos meses, transcurrido el cual la solicitud se entenderá desestimada.  La oficina de extranjería podrá solicitar la presentación de la documentación adicional que se  estime  pertinente  para  acreditar  que  la  persona  extranjera  se  encuentra  en\\\\n\\\\nRanking 4:\\\\nboe\\\\nBOE-A-2011-7703-consolidado.pdf \\\\n TÍTULO IV \\\\n CAPÍTULO I \\\\n Sección SIN ASIGNAR \\\\n Artículo 51  Renovación de la autorización de residencia temporal no lucrativa \\\\n 1.  El  extranjero  que  desee  renovar  su  autorización  de  residencia  temporal  deberá  solicitarlo  a  la  Oficina  de  Extranjería  competente  para  su  tramitación  durante  los  sesenta  días  naturales  previos  a  la  fecha  de  expiración  de  la  vigencia  de  su  autorización.  La  presentación de la solicitud en este plazo prorroga la validez de la autorización anterior hasta  la resolución del procedimiento. También se prorrogará hasta la resolución del procedimiento  en  el  supuesto  en  que  la  solicitud  se  presentase  dentro  de  los  noventa  días  naturales  posteriores  a  la  fecha  en  que  hubiera  finalizado  la  vigencia  de  la  anterior  autorización,  sin  perjuicio de la incoación del correspondiente procedimiento sancionador por la infracción en  que se hubiese incurrido. 2.  Para  la  renovación  de  una  autorización  de  residencia  temporal  no  lucrativa,  el extranjero solicitante deberá cumplir los siguientes requisitos: a) Ser titular de una autorización de residencia temporal no lucrativa en vigor o hallarse dentro del plazo de los noventa días naturales posteriores a la caducidad de ésta. b) Contar con medios económicos suficientes para atender sus gastos de manutención y  estancia, incluyendo, en su caso, los de su familia, durante el periodo de tiempo por el que  corresponda  la  renovación,  sin  necesidad  de  desarrollar  ninguna  actividad  laboral  o  profesional, en los términos establecidos en el artículo 47. c) Contar con un seguro público o un seguro privado de enfermedad concertado con una Entidad aseguradora autorizada para operar en España. d)  Tener  escolarizados  a  los  menores  a  su  cargo  en  edad  de  escolarización  obligatoria durante la permanencia de éstos en España. e) Haber abonado la tasa por tramitación del procedimiento. 3. A la solicitud, en modelo oficial, deberá acompañar la documentación que acredite que se reúnen los requisitos señalados en el apartado anterior, entre otros: a)  Copia  del  pasaporte  completo  en  vigor  o  título  de  viaje,  reconocido  como  válido  en España. b)  Los  documentos  que  acrediten  los  recursos  económicos  o  los  medios  económicos  suficientes  para  atender  sus  gastos  de  manutención  y  estancia,  así  como  el  seguro  de  enfermedad,  durante  el  periodo  de  tiempo  por  el  que  se  pretenda  renovar  la  residencia  en  España sin necesidad de desarrollar ninguna actividad laboral o profesional. c)  En  su  caso,  informe  emitido  por  las  autoridades  autonómicas  competentes  que  acredite la escolarización de los menores en edad de escolarización obligatoria que estén a  su cargo. 4. En caso de que a partir de la documentación presentada junto a la solicitud no quede  acreditada la escolarización de los menores en edad de escolarización obligatoria que estén  a  cargo  del  solicitante,  la  Oficina  de  Extranjería  pondrá  esta  circunstancia  en  conocimiento  de  las  autoridades  educativas  competentes,  y  advertirá  expresamente  y  por  escrito  al  extranjero  solicitante  de  que  en  caso  de  no  producirse  la  escolarización  y  presentarse  el  correspondiente informe en el plazo de treinta días, la autorización no será renovada. 5. Para la renovación de la autorización se valorará, en su caso, previa solicitud de oficio de los correspondientes informes: a) La posibilidad de renovar la autorización de residencia a los extranjeros que hubieren  sido condenados por la comisión de un delito y hayan cumplido la condena, los que hubieran  sido  indultados  o  se  hallasen  en  situación  de  remisión  condicional\\\\n\\\\nRanking 3:\\\\norientacion\\\\nHI 35.pdf \\\\n propia se deberá acreditar una actividad continuada de, al menos, seis meses.\\\\nNota importante: cuando se aporten documentos de otros países deberán estar traducidos al castellano o lengua cooficial del\\\\nterritorio donde se presente la solicitud.\\\\nPor otro lado, todo documento público extranjero deberá ser previamente legalizado por la Oficina consular de España con\\\\njurisdicción en el país en el que se ha expedido dicho documento o, en su caso, por el Ministerio de Asuntos Exteriores, Unión Europea y\\\\nCooperación salvo en el caso en que dicho documento haya sido apostillado por la Autoridad competente del país emisor según el\\\\nConvenio de la Haya de 5 de octubre de 1961 y salvo que dicho documento esté exento de legalización en virtud de Convenio\\\\nInternacional.\\\\nInformación sobre traducción y legalización de los documentos\\\\nProcedimiento\\\\nSujeto legitimado para presentar la solicitud: el extranjero personalmente, o su representante legal en el supuesto de ser\\\\nmenor o incapaz.\\\\nLugar de presentación: Oficina de Extranjería de la provincia en la que el extranjero tenga fijado el domicilio. Información de la\\\\ndirección, teléfonos y horarios de atención al público.\\\\nTasa de residencia temporal por circunstancias excepcionales: se devengará en el momento de admisión a trámite de la\\\\nsolicitud, y deberá abonarse en el plazo de diez días hábiles, es:\\\\nModelo 790 código 052, epígrafe 2.5 “autorización de residencia temporal por circunstancias excepcionales”: a abonar por\\\\nel extranjero\\\\nEl impreso para el abono se podrá descargar desde el portal de Internet de la Secretaría de Estado de la Función Pública\\\\nPlazo de resolución de la solicitud: 3 meses contados a partir del día siguiente a la fecha en que haya tenido entrada en el\\\\nregistro del órgano competente para su tramitación. Transcurrido dicho plazo sin que la Administración haya practicado la\\\\nnotificación, se podrá entender que la solicitud ha sido desestimada por silencio administrativo. (Cuando no se haya podido\\\\n\\\\nRanking 2:\\\\nTema 10 DERECHO DE EXTRANJERÍA\\\\nRd 1155_24.pdf \\\\n TÍTULO IV \\\\n CAPÍTULO I \\\\n Sección SIN ASIGNAR \\\\n Artículo 64  Renovación de la autorización de residencia temporal no lucrativa \\\\n 1.  La  persona  extranjera  que  desee  renovar  su  autorización  de  residencia  temporal  deberá solicitarlo a la oficina de extranjería competente para su tramitación durante los dos  meses previos a la fecha de expiración de la vigencia de su autorización. La presentación de  la  solicitud  en  este  plazo  prorroga  la  validez  de  la  autorización  anterior  hasta  la  resolución  del  procedimiento.  También  se  prorrogará  hasta  la  resolución  del  procedimiento  en  el  supuesto en que la solicitud se presentase dentro de los tres meses posteriores a la fecha en  que hubiera finalizado la vigencia de la anterior autorización, sin perjuicio de la incoación del  correspondiente procedimiento sancionador por la infracción prevista en el artículo 52.b) de  la Ley Orgánica 4/2000, de 11 de enero. 2. Para la renovación de una autorización de residencia temporal no lucrativa, la persona extranjera deberá cumplir los siguientes requisitos: a) Ser titular de una autorización de residencia temporal no lucrativa en vigor o hallarse dentro del plazo de los tres meses posteriores a la caducidad de esta. b) Contar con medios económicos suficientes para atender sus gastos de manutención y  residencia, incluyendo, en su caso, los de su familia, durante el periodo de tiempo por el que  corresponda  la  renovación,  sin  necesidad  de  desarrollar  ninguna  actividad  laboral  o  profesional, en los términos establecidos en el artículo 62. c)  Haber  mantenido  durante  la  vigencia  de  la  autorización  que  se  pretende  renovar  y continuar con un seguro de enfermedad. d)  Tener  escolarizados  a  los  menores  a  su  cargo  en  edad  de  escolarización  obligatoria durante la permanencia de estos en España. e) Haber abonado la tasa por tramitación del procedimiento. f)  Haber  residido  de  forma  real  y  efectiva  en  España  durante  más  de  ciento  ochenta  y tres días durante el año natural. 3. A la solicitud, en modelo oficial, deberá acompañar la documentación que acredite que se reúnen los requisitos señalados en el apartado anterior, entre otros: a)  Copia  del  pasaporte  completo  en  vigor  o  título  de  viaje,  reconocido  como  válido  en España. b) Los documentos que acrediten los recursos económicos suficientes para atender sus  gastos de manutención y residencia, así como el seguro de enfermedad, durante el periodo  de  tiempo  por  el  que  se  pretenda  renovar  la  residencia  en  España  sin  necesidad  de  desarrollar ninguna actividad laboral o profesional. c)  En  su  caso,  informe  emitido  por  las  autoridades  autonómicas  competentes  que  acredite la escolarización de los menores en edad de escolarización obligatoria que estén a  su cargo. 4. En caso de que a partir de la documentación presentada junto a la solicitud no quede  acreditada la escolarización de los menores en edad de escolarización obligatoria que estén  a  cargo  del  solicitante,  la  Oficina  de  extranjería  pondrá  esta  circunstancia  en  conocimiento  de  las  autoridades  educativas  competentes,  y  advertirá  expresamente  y  por  escrito  a  la  persona  solicitante  de  que  en  caso  de  no  producirse  la  escolarización  y  presentarse  el  correspondiente informe en el plazo de un mes, la autorización no será renovada. 5. Para la renovación de la autorización se valorará, en su caso, previa solicitud de oficio de los correspondientes informes: a) La posibilidad de renovar la autorización de residencia a las personas extranjeras que  hubieren sido condenadas por la comisión de un delito y hayan cumplido la condena, las que  hubieran sido indultadas o se hallasen en situación de remisión condicional de la pena o de  suspensión de la pena. b) El\\\\n\\\\nRanking 1:\\\\nboe\\\\nBOE-A-2011-7703-consolidado.pdf \\\\n TÍTULO IV \\\\n CAPÍTULO X \\\\n Sección SIN ASIGNAR \\\\n Artículo 122  Autorizaciones de residencia temporal o de residencia temporal y trabajo: 1.  No  resultará  de  aplicación  el  requisito  relativo  a  la  consideración  de  la  situación  nacional  de  empleo  en  los  procedimientos  sobre  autorizaciones  en  los  cuales  éste  fuera  generalmente  exigible,  cuando  el  extranjero  a  cuyo  favor  se  soliciten  éstas  se  encuentre  incluido en el supuesto previsto en el artículo 120.1.a). 2. En el marco de la gestión colectiva de trabajadores en origen, podrán ser presentadas  ofertas  de  carácter  nominativo  a  favor  de  los  extranjeros  que  se  hubieran  acogido  al  programa de retorno voluntario o hubieran regresado a su país al margen de un programa en  los  términos  previstos  en  este  capítulo,  siempre  que  con  ello  hubieran  renunciado  a  la  titularidad de una autorización de residencia temporal y trabajo. Igualmente,  los  órganos  españoles  competentes  realizarán  las  actuaciones  necesarias  para que dichos extranjeros sean preseleccionados en los procedimientos desarrollados en  su país de origen a los que concurran, siempre que reúnan los requisitos de capacitación y,  en su caso, cualificación profesional legalmente exigida para el ejercicio de la profesión. 3.  Los  procedimientos  de  solicitud  de  una  autorización  de  residencia  temporal  o  de  residencia  temporal  y  trabajo  derivados  de  lo  previsto  en  este  capítulo  serán  objeto  de  tramitación preferente. El plazo máximo para la resolución y notificación será de cuarenta y  cinco  días  desde  la  fecha  de  entrada  de  la  solicitud  en  el  registro  del  órgano  competente  para su resolución. 4.  La  situación  de  residencia  temporal  del  extranjero  se  entenderá  continuada,  a  los  efectos de acceso a la situación de residencia de larga duración, si bien dicho cómputo no  incluirá el tiempo transcurrido desde el retorno voluntario del extranjero a su país de origen o  país  de  anterior  residencia,  hasta  la  concesión  de  la  nueva  autorización  de  residencia  temporal o de residencia temporal y trabajo. 5.  Lo  previsto  en  este  artículo  resultará  de  aplicación  una  vez  transcurrido  el  plazo  de  compromiso de no regreso a España, asumido por el extranjero al retornar voluntariamente a  su país de origen. Residencia temporal por circunstancias excepcionales\\\\n        <\\\\\\\\contexto>', additional_kwargs={}, response_metadata={}), RemoveMessage(content='', additional_kwargs={}, response_metadata={})]}\", name='get_context', id='69ab10f3-0dac-4f5e-b8bc-225d714cc209', tool_call_id='call_zoJElUkxas340dMz5REx36VA'),\n",
       "  AIMessage(content='Para continuar con tu solicitud de residencia temporal, puedes seguir estos pasos:\\n\\n1. **Reúne la Documentación Necesaria**: Asegúrate de tener todos los documentos requeridos para tu solicitud. Esto generalmente incluye:\\n   - Impreso de solicitud en modelo oficial (EX-10) debidamente cumplimentado y firmado.\\n   - Copia completa de tu pasaporte o título de viaje.\\n   - Certificado de antecedentes penales (si es necesario).\\n   - Documentación que acredite tu situación (por ejemplo, contrato de trabajo, pruebas de medios económicos, etc.).\\n\\n2. **Presenta la Solicitud**: Si estás en España, debes presentar tu solicitud ante la Oficina de Extranjería correspondiente a tu lugar de residencia. Si estás fuera de España, debes hacerlo en la oficina consular española más cercana.\\n\\n3. **Abona la Tasa Correspondiente**: Asegúrate de pagar la tasa de tramitación correspondiente. Esto se suele hacer mediante el modelo 790 código 052, que puedes descargar desde el portal de la Secretaría de Estado de la Función Pública.\\n\\n4. **Espera la Resolución**: Una vez presentada la solicitud, la Oficina de Extranjería tiene un plazo máximo de dos meses para resolver. Si no recibes respuesta en ese tiempo, tu solicitud se considerará desestimada por silencio administrativo.\\n\\n5. **Cumple con los Requisitos**: Asegúrate de cumplir con todos los requisitos establecidos, como no tener antecedentes penales y demostrar que no representas una amenaza para el orden público o la seguridad pública.\\n\\n6. **Documentación Adicional**: La Oficina de Extranjería puede solicitar documentación adicional para verificar tu situación. Asegúrate de responder a cualquier requerimiento en el plazo indicado.\\n\\n7. **Consulta con un Abogado**: Si tienes dudas sobre el proceso o necesitas asesoramiento específico, considera consultar con un abogado especializado en derecho de extranjería.\\n\\nRecuerda que es importante actuar con anticipación y tener toda la documentación en orden para evitar retrasos en tu solicitud.', additional_kwargs={'refusal': None}, response_metadata={'token_usage': {'completion_tokens': 424, 'prompt_tokens': 11801, 'total_tokens': 12225, 'completion_tokens_details': {'accepted_prediction_tokens': 0, 'audio_tokens': 0, 'reasoning_tokens': 0, 'rejected_prediction_tokens': 0}, 'prompt_tokens_details': {'audio_tokens': 0, 'cached_tokens': 0}}, 'model_name': 'gpt-4o-mini-2024-07-18', 'system_fingerprint': 'fp_bd83329f63', 'finish_reason': 'stop', 'logprobs': None}, id='run-2987a74f-335a-4f3c-9986-ca352f49feca-0', usage_metadata={'input_tokens': 11801, 'output_tokens': 424, 'total_tokens': 12225, 'input_token_details': {'audio': 0, 'cache_read': 0}, 'output_token_details': {'audio': 0, 'reasoning': 0}}),\n",
       "  HumanMessage(content='soy victima de terrorismo en mi pais de origen, que documentacion necesito presentar?', additional_kwargs={}, response_metadata={}, id='e4e47817-e166-49d8-a877-cfea29cc48d6'),\n",
       "  AIMessage(content='', additional_kwargs={'tool_calls': [{'id': 'call_VBBK6O68NedGsOnW95IInNnt', 'function': {'arguments': '{\"question\":\"soy victima de terrorismo en mi pais de origen, que documentacion necesito presentar?\",\"state\":{\"messages\":[{\"content\":\"soy victima de terrorismo en mi pais de origen, que documentacion necesito presentar?\",\"type\":\"human\"}]}}', 'name': 'get_context'}, 'type': 'function'}], 'refusal': None}, response_metadata={'token_usage': {'completion_tokens': 62, 'prompt_tokens': 12248, 'total_tokens': 12310, 'completion_tokens_details': {'accepted_prediction_tokens': 0, 'audio_tokens': 0, 'reasoning_tokens': 0, 'rejected_prediction_tokens': 0}, 'prompt_tokens_details': {'audio_tokens': 0, 'cached_tokens': 12160}}, 'model_name': 'gpt-4o-mini-2024-07-18', 'system_fingerprint': 'fp_bd83329f63', 'finish_reason': 'tool_calls', 'logprobs': None}, id='run-859089d6-429e-472b-bf56-ea020f1d0341-0', tool_calls=[{'name': 'get_context', 'args': {'question': 'soy victima de terrorismo en mi pais de origen, que documentacion necesito presentar?', 'state': {'messages': [{'content': 'soy victima de terrorismo en mi pais de origen, que documentacion necesito presentar?', 'type': 'human'}]}}, 'id': 'call_VBBK6O68NedGsOnW95IInNnt', 'type': 'tool_call'}], usage_metadata={'input_tokens': 12248, 'output_tokens': 62, 'total_tokens': 12310, 'input_token_details': {'audio': 0, 'cache_read': 12160}, 'output_token_details': {'audio': 0, 'reasoning': 0}}),\n",
       "  ToolMessage(content=\"{'messages': [HumanMessage(content='\\\\n        <pregunta>\\\\n            soy victima de terrorismo en mi pais de origen, que documentacion necesito presentar?\\\\n        </pregunta>\\\\n        <contexto>\\\\n            Aquí tienes el contenido complementario que has de usar para responder la pregunta:\\\\n            \\\\n        <\\\\\\\\contexto>', additional_kwargs={}, response_metadata={}), RemoveMessage(content='', additional_kwargs={}, response_metadata={})]}\", name='get_context', id='b292ee81-cb44-4b6e-91bc-fe91c5bb45be', tool_call_id='call_VBBK6O68NedGsOnW95IInNnt'),\n",
       "  AIMessage(content='Si eres víctima de terrorismo en tu país de origen y deseas presentar una solicitud de residencia temporal en otro país, generalmente necesitarás presentar la siguiente documentación:\\n\\n1. **Informe o Certificado de la Condición de Víctima**: Un documento oficial que acredite tu condición de víctima de terrorismo. Esto puede ser emitido por las autoridades competentes de tu país de origen o por organizaciones internacionales que trabajen en la defensa de los derechos de las víctimas.\\n\\n2. **Documentación Personal**: \\n   - Copia de tu pasaporte o documento de identidad.\\n   - Fotografías recientes, si es necesario.\\n\\n3. **Pruebas de la Situación de Riesgo**: Documentación que demuestre que tu vida o integridad personal está en peligro debido a tu condición de víctima de terrorismo. Esto puede incluir informes médicos, denuncias policiales, o cualquier otro documento que respalde tu situación.\\n\\n4. **Solicitud Formal**: Completar el impreso de solicitud correspondiente (por ejemplo, el modelo EX-10) y firmarlo.\\n\\n5. **Documentación Adicional**: Dependiendo de la legislación del país donde estés solicitando la residencia, puede que necesites presentar documentación adicional que acredite tus circunstancias personales y tu situación económica.\\n\\n6. **Certificado de Antecedentes Penales**: Aunque seas víctima, es posible que te soliciten un certificado de antecedentes penales de tu país de origen, si es aplicable.\\n\\n7. **Informe Médico**: En algunos casos, se puede requerir un informe médico que certifique tu estado de salud.\\n\\nEs recomendable que te pongas en contacto con la oficina de extranjería o la embajada/consulado del país donde deseas solicitar la residencia para obtener información específica sobre los requisitos y la documentación necesaria en tu caso particular. Además, considera buscar asesoría legal para que te guíen en el proceso.', additional_kwargs={'refusal': None}, response_metadata={'token_usage': {'completion_tokens': 386, 'prompt_tokens': 12408, 'total_tokens': 12794, 'completion_tokens_details': {'accepted_prediction_tokens': 0, 'audio_tokens': 0, 'reasoning_tokens': 0, 'rejected_prediction_tokens': 0}, 'prompt_tokens_details': {'audio_tokens': 0, 'cached_tokens': 12160}}, 'model_name': 'gpt-4o-mini-2024-07-18', 'system_fingerprint': 'fp_bd83329f63', 'finish_reason': 'stop', 'logprobs': None}, id='run-38f2d27f-8b71-48f7-9843-69295c16b801-0', usage_metadata={'input_tokens': 12408, 'output_tokens': 386, 'total_tokens': 12794, 'input_token_details': {'audio': 0, 'cache_read': 12160}, 'output_token_details': {'audio': 0, 'reasoning': 0}})]}"
      ]
     },
     "execution_count": 15,
     "metadata": {},
     "output_type": "execute_result"
    }
   ],
   "source": [
    "app.invoke({\"messages\": [(\"human\", \"soy victima de terrorismo en mi pais de origen, que documentacion necesito presentar?\")]}, config={\"thread_id\":1})#, stream_mode=\"values\""
   ]
  }
 ],
 "metadata": {
  "kernelspec": {
   "display_name": "demo-chatbot",
   "language": "python",
   "name": "python3"
  },
  "language_info": {
   "codemirror_mode": {
    "name": "ipython",
    "version": 3
   },
   "file_extension": ".py",
   "mimetype": "text/x-python",
   "name": "python",
   "nbconvert_exporter": "python",
   "pygments_lexer": "ipython3",
   "version": "3.9.13"
  }
 },
 "nbformat": 4,
 "nbformat_minor": 2
}
