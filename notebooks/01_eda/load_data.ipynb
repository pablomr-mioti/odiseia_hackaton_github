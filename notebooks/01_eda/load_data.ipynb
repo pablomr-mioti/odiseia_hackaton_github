{
 "cells": [
  {
   "cell_type": "code",
   "execution_count": 2,
   "metadata": {},
   "outputs": [
    {
     "name": "stderr",
     "output_type": "stream",
     "text": [
      "c:\\Users\\angelff\\Documents\\PROYECTOS\\env\\demo-chatbot\\lib\\site-packages\\pinecone\\data\\index.py:1: TqdmWarning: IProgress not found. Please update jupyter and ipywidgets. See https://ipywidgets.readthedocs.io/en/stable/user_install.html\n",
      "  from tqdm.autonotebook import tqdm\n"
     ]
    },
    {
     "data": {
      "text/plain": [
       "False"
      ]
     },
     "execution_count": 2,
     "metadata": {},
     "output_type": "execute_result"
    }
   ],
   "source": [
    "import os\n",
    "import sys\n",
    "sys.path.append(os.path.abspath('../../'))\n",
    "\n",
    "from src.d01_data.memory_chat import MemoryChat\n",
    "import base64\n",
    "from dotenv import load_dotenv\n",
    "\n",
    "load_dotenv('../.env')"
   ]
  },
  {
   "cell_type": "code",
   "execution_count": 7,
   "metadata": {},
   "outputs": [],
   "source": [
    "urls=[\n",
    "    \"https://www.boe.es/buscar/act.php?id=BOE-A-2011-7703\",\n",
    "    \"https://www.boe.es/buscar/act.php?id=BOE-A-2000-544\",\n",
    "    \"https://www.boe.es/buscar/act.php?id=BOE-A-2013-10074\",\n",
    "    \"https://www.boe.es/buscar/act.php?id=BOE-A-2007-4184\"\n",
    "]"
   ]
  },
  {
   "cell_type": "code",
   "execution_count": 8,
   "metadata": {},
   "outputs": [],
   "source": [
    "import requests\n",
    "import re\n",
    "\n",
    "boes={}\n",
    "for url in urls:\n",
    "    response = requests.get(url)\n",
    "    ref_pattern = re.compile(r\"BOE-A-\\d{4}-\\d+\")\n",
    "    referencia = re.search(ref_pattern, url).group(0)\n",
    "\n",
    "    titulo=\"\"\n",
    "    text=[]\n",
    "    for line in response.text.splitlines():\n",
    "        line_str = line.replace(\"\\xa0\", \"\").replace(\"\\u202f\", \"\").replace(\"\\xad\",\"\").replace(\"\\u2003\", \"\").replace(\"\\u2002\", \"\")\n",
    "        \n",
    "        if line.strip().startswith('<h3 class=\"documento-tit\">'):\n",
    "            titulo = line_str.replace('<h3 class=\"documento-tit\">', '').replace('</h3>', '').strip()\n",
    "        \n",
    "        if line.strip().startswith('<p class=\"parrafo_2\">') or line.startswith('<p class=\"parrafo\">') or line.startswith('<h5 class=\"articulo\">'):\n",
    "            line_str = re.sub(r'<p class=\".+\">', \"\", line_str).split(\"</\")[0]\n",
    "            line_str = re.sub(r'<h\\d class=\".+\">', \"\", line_str).split(\"</\")[0]\n",
    "            \n",
    "            text.append(line_str)\n",
    "    text = \"\\n\".join(text)\n",
    "    boes[referencia] = {\"titulo\": titulo, \"texto\": text}\n"
   ]
  },
  {
   "cell_type": "code",
   "execution_count": 11,
   "metadata": {},
   "outputs": [
    {
     "name": "stdout",
     "output_type": "stream",
     "text": [
      "Path name:  HI 108.pdf\n",
      "Función a utilizar: extraer_texto_dividir_chunks\n",
      "Path name:  HI 35.pdf\n",
      "Función a utilizar: extraer_texto_dividir_chunks\n",
      "Path name:  HI 36.pdf\n",
      "Función a utilizar: extraer_texto_dividir_chunks\n",
      "Path name:  HI 37.pdf\n",
      "Función a utilizar: extraer_texto_dividir_chunks\n",
      "Path name:  HI 38.pdf\n",
      "Función a utilizar: extraer_texto_dividir_chunks\n",
      "Path name:  HI 39.pdf\n",
      "Función a utilizar: extraer_texto_dividir_chunks\n",
      "Path name:  HI 40.pdf\n",
      "Función a utilizar: extraer_texto_dividir_chunks\n",
      "Path name:  HI 41.pdf\n",
      "Función a utilizar: extraer_texto_dividir_chunks\n",
      "Path name:  HI 42.pdf\n",
      "Función a utilizar: extraer_texto_dividir_chunks\n",
      "Path name:  HI 43.pdf\n",
      "Función a utilizar: extraer_texto_dividir_chunks\n",
      "Path name:  HI 44.pdf\n",
      "Función a utilizar: extraer_texto_dividir_chunks\n",
      "Path name:  HI 45.pdf\n",
      "Función a utilizar: extraer_texto_dividir_chunks\n",
      "Path name:  BOE-A-2000-544-consolidado.pdf\n",
      "Función a utilizar: estructurar_boe\n",
      "Path name:  BOE-A-2011-7703-consolidado.pdf\n",
      "Función a utilizar: estructurar_boe\n",
      "Path name:  LO 4_00.pdf\n",
      "Función a utilizar: estructurar_boe\n",
      "Path name:  Rd 1155_24.pdf\n",
      "Función a utilizar: estructurar_boe\n",
      "Path name:  rd 240_2007.pdf\n",
      "Función a utilizar: estructurar_boe\n",
      "Path name:  Ley 12_2009.pdf\n",
      "Función a utilizar: estructurar_boe\n",
      "Path name:  Rd 1325_2003.pdf\n",
      "Función a utilizar: estructurar_boe\n",
      "Path name:  rd 220_2022.pdf\n",
      "Función a utilizar: estructurar_boe\n",
      "Path name:  rd 865_2001.pdf\n",
      "Función a utilizar: estructurar_boe\n",
      "Path name:  Convenio contra la tortura.pdf\n",
      "Función a utilizar: extraer_texto_dividir_chunks\n",
      "Path name:  OPCAT_SP.pdf\n",
      "Función a utilizar: extraer_texto_dividir_chunks\n",
      "Path name:  reglamento DP.pdf\n",
      "Función a utilizar: estructurar_boe\n"
     ]
    },
    {
     "name": "stderr",
     "output_type": "stream",
     "text": [
      "The PDF <_io.BufferedReader name='C:\\\\Users\\\\angelff\\\\Documents\\\\PROYECTOS\\\\HACKATON\\\\odiseia_hackaton\\\\data\\\\01_raw\\\\extra\\\\Tema 27 DERECHOS HUMANOS\\\\Universal_Derechos_Humanos.pdf'> contains a metadata field indicating that it should not allow text extraction. Ignoring this field and proceeding. Use the check_extractable if you want to raise an error in this case\n"
     ]
    },
    {
     "name": "stdout",
     "output_type": "stream",
     "text": [
      "Path name:  Universal_Derechos_Humanos.pdf\n",
      "Función a utilizar: extraer_texto_dividir_chunks\n"
     ]
    }
   ],
   "source": [
    "from src.d01_data.data_izeta import *\n",
    "from pathlib import Path\n",
    "pdfs = []\n",
    "for x in os.listdir(\"C:/Users/angelff/Documents/PROYECTOS/HACKATON/odiseia_hackaton/data/01_raw/orientacion\"):\n",
    "    pdfs.append(Path(\"C:/Users/angelff/Documents/PROYECTOS/HACKATON/odiseia_hackaton/data/01_raw/orientacion/\"+x))\n",
    "\n",
    "for x in os.listdir(\"C:/Users/angelff/Documents/PROYECTOS/HACKATON/odiseia_hackaton/data/01_raw/boe\"):\n",
    "    pdfs.append(Path(\"C:/Users/angelff/Documents/PROYECTOS/HACKATON/odiseia_hackaton/data/01_raw/boe/\" + x))\n",
    "\n",
    "for x in os.listdir(\"C:/Users/angelff/Documents/PROYECTOS/HACKATON/odiseia_hackaton/data/01_raw/extra/Tema 10 DERECHO DE EXTRANJERÍA\"):\n",
    "    pdfs.append(Path(\"C:/Users/angelff/Documents/PROYECTOS/HACKATON/odiseia_hackaton/data/01_raw/extra/Tema 10 DERECHO DE EXTRANJERÍA/\" + x))\n",
    "    \n",
    "\n",
    "for x in os.listdir(\"C:/Users/angelff/Documents/PROYECTOS/HACKATON/odiseia_hackaton/data/01_raw/extra/Tema 12 PROTECCIÓN INTERNACIONAL\"):\n",
    "    pdfs.append(Path(\"C:/Users/angelff/Documents/PROYECTOS/HACKATON/odiseia_hackaton/data/01_raw/extra/Tema 12 PROTECCIÓN INTERNACIONAL/\" + x))\n",
    "    \n",
    "\n",
    "for x in os.listdir(\"C:/Users/angelff/Documents/PROYECTOS/HACKATON/odiseia_hackaton/data/01_raw/extra/Tema 27 DERECHOS HUMANOS\"):\n",
    "    pdfs.append(Path(\"C:/Users/angelff/Documents/PROYECTOS/HACKATON/odiseia_hackaton/data/01_raw/extra/Tema 27 DERECHOS HUMANOS/\" + x))\n",
    "\n",
    "procesar_paths(pdfs, model = os.environ[\"MODEL\"])"
   ]
  }
 ],
 "metadata": {
  "kernelspec": {
   "display_name": "demo-chatbot",
   "language": "python",
   "name": "python3"
  },
  "language_info": {
   "codemirror_mode": {
    "name": "ipython",
    "version": 3
   },
   "file_extension": ".py",
   "mimetype": "text/x-python",
   "name": "python",
   "nbconvert_exporter": "python",
   "pygments_lexer": "ipython3",
   "version": "3.9.13"
  }
 },
 "nbformat": 4,
 "nbformat_minor": 2
}
