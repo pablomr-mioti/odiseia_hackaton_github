{
 "cells": [
  {
   "cell_type": "code",
   "execution_count": 1,
   "metadata": {},
   "outputs": [
    {
     "name": "stderr",
     "output_type": "stream",
     "text": [
      "C:\\Users\\edgarmp\\AppData\\Local\\Temp\\ipykernel_17884\\3010044380.py:10: TqdmWarning: IProgress not found. Please update jupyter and ipywidgets. See https://ipywidgets.readthedocs.io/en/stable/user_install.html\n",
      "  from tqdm.autonotebook import tqdm\n"
     ]
    }
   ],
   "source": [
    "%load_ext autoreload\n",
    "%autoreload 2\n",
    "\n",
    "import os\n",
    "import sys\n",
    "from pprint import pprint\n",
    "from dotenv import load_dotenv\n",
    "import pathlib\n",
    "# from tqdm import tqdm\n",
    "from tqdm.autonotebook import tqdm\n",
    "from pathlib import Path\n",
    "from pprint import pprint\n",
    "import numpy as np\n",
    "import hashlib\n",
    "\n",
    "import polars as pl\n",
    "from glob import glob\n",
    "\n",
    "from openai import OpenAI\n",
    "from pinecone import Pinecone\n",
    "from langchain_openai import OpenAIEmbeddings\n",
    "\n",
    "from pinecone_text.sparse import BM25Encoder\n",
    "\n",
    "\n",
    "root_dir = Path(os.getcwd()).parent.parent\n",
    "sys.path.insert(0, str(root_dir))\n",
    "\n",
    "pl.Config.set_fmt_str_lengths(300)\n",
    "pl.Config.set_tbl_rows(100)\n",
    "pl.Config.set_tbl_cols(20);"
   ]
  },
  {
   "cell_type": "code",
   "execution_count": 2,
   "metadata": {},
   "outputs": [],
   "source": [
    "from src.d01_data.data import (read_json, create_index_if_not_exists, upsert_vectors_in_batches,\n",
    "                                delete_docs_by_id, get_all_id_prefixes, match_prefix, json_dump)\n",
    "\n",
    "from src.d00_utils.utils import (get_tokens_len, generate_sparse_vector_in_batches,\n",
    "                                 dict_to_document_boe, metadata_to_uuid)\n",
    "\n",
    "load_dotenv('../../.env')\n",
    " \n",
    "intermediate_path = root_dir / 'data' / '02_intermediate'\n",
    "output_path = root_dir / 'data' / '04_model_output'"
   ]
  },
  {
   "cell_type": "code",
   "execution_count": 3,
   "metadata": {},
   "outputs": [],
   "source": [
    "OPENAI_API_KEY = os.getenv('OPENAI_API_KEY')\n",
    "PINECONE_API_KEY = os.getenv('PINECONE_API_KEY')\n",
    "EMBEDDING_MODEL = os.getenv('EMBEDDING_MODEL')"
   ]
  },
  {
   "cell_type": "code",
   "execution_count": 13,
   "metadata": {},
   "outputs": [
    {
     "name": "stdout",
     "output_type": "stream",
     "text": [
      "Index hackaton created\n"
     ]
    }
   ],
   "source": [
    "pc = Pinecone(api_key=PINECONE_API_KEY)\n",
    "pc_index = create_index_if_not_exists(client=pc, index_name='hackaton')\n",
    "embeddings = OpenAIEmbeddings(model=EMBEDDING_MODEL, dimensions=3072)"
   ]
  },
  {
   "cell_type": "code",
   "execution_count": 5,
   "metadata": {},
   "outputs": [
    {
     "name": "stdout",
     "output_type": "stream",
     "text": [
      "Número de ficheros boe: 24\n"
     ]
    }
   ],
   "source": [
    "boe_files = glob(str(intermediate_path / '*/*.json'))\n",
    "boe_files = [Path(f) for f in boe_files]\n",
    "\n",
    "print(f'Número de ficheros boe: {len(boe_files)}')"
   ]
  },
  {
   "cell_type": "code",
   "execution_count": 6,
   "metadata": {},
   "outputs": [
    {
     "name": "stdout",
     "output_type": "stream",
     "text": [
      "Procesando el fichero boe\\BOE-A-2000-544-consolidado_boe.json\n",
      "Chunk más grande: 967 tokens en índice 38\n",
      "Chunk más pequeño: 47 tokens en índice 51\n",
      "BOE-A-2000-544-consolidado.pdf \n",
      " TÍTULO II \n",
      " CAPÍTULO III \n",
      " Sección SIN ASIGNAR \n",
      " Artículo 38 bis  Régimen especial de los investigadores: (Derogado).\n",
      "\n",
      "Procesando el fichero boe\\BOE-A-2011-7703-consolidado_boe.json\n",
      "Chunk más grande: 1008 tokens en índice 264\n",
      "Chunk más pequeño: 43 tokens en índice 118\n",
      "BOE-A-2011-7703-consolidado.pdf \n",
      " TÍTULO IV \n",
      " CAPÍTULO IV \n",
      " Sección SIN ASIGNAR \n",
      " Artículo 77  Procedimiento: (Derogado)\n",
      "\n",
      "Procesando el fichero extra\\Convenio contra la tortura.json\n",
      "Chunk más grande: 437 tokens en índice 11\n",
      "Chunk más pequeño: 56 tokens en índice 20\n",
      "Convenio contra la tortura.pdf \n",
      " son igualmente auténticos, se depositará en poder del Secretario General de las \n",
      "Naciones Unidas.  \n",
      "2. El Secretario General de las Naciones Unidas remitirá copias certificadas de la \n",
      "presente Convención a todos los Estados.\n",
      "\n",
      "Procesando el fichero extra\\Ley 12_2009_boe.json\n",
      "Chunk más grande: 951 tokens en índice 26\n",
      "Chunk más pequeño: 68 tokens en índice 40\n",
      "Ley 12_2009.pdf \n",
      " TÍTULO II \n",
      " CAPÍTULO III \n",
      " Sección SIN ASIGNAR \n",
      " Artículo 32  Autorización de trabajo a los solicitantes de protección internacional: Las personas solicitantes de protección internacional serán autorizadas para trabajar en España en los términos que reglamentariamente se establezcan.\n",
      "\n",
      "Procesando el fichero extra\\OPCAT_SP.json\n",
      "Chunk más grande: 433 tokens en índice 10\n",
      "Chunk más pequeño: 221 tokens en índice 18\n",
      "OPCAT_SP.pdf \n",
      " las Naciones Unidas, de 13 de febrero de 1946, con sujeción a las disposiciones de la \n",
      "sección 23 de dicha Convención. \n",
      "Artículo 36 \n",
      "           Durante la visita a un Estado Parte, y sin perjuicio de las disposiciones y \n",
      "objetivos del presente Protocolo y de las prerrogativas e inmunidades de que puedan \n",
      "gozar, los miembros del Subcomité para la Prevención deberán: \n",
      "           a)       Observar las leyes y los reglamentos del Estado visitado; \n",
      "           b)       Abstenerse de toda acción o actividad incompatible con el carácter \n",
      "imparcial e internacional de sus funciones. \n",
      "Artículo 37 \n",
      "1.       El presente Protocolo, cuyos textos en árabe, chino, español, francés, inglés y \n",
      "ruso son igualmente auténticos, será depositado en poder del Secretario General de las \n",
      "Naciones Unidas. \n",
      "2.       El Secretario General de las Naciones remitirá copias certificadas del presente \n",
      "Protocolo a todos los Estados.\n",
      "\n",
      "Procesando el fichero extra\\Rd 1155_24_boe.json\n",
      "Chunk más grande: 1004 tokens en índice 276\n",
      "Chunk más pequeño: 78 tokens en índice 294\n",
      "Rd 1155_24.pdf \n",
      " TÍTULO XII \n",
      " CAPÍTULO II \n",
      " Sección SIN ASIGNAR \n",
      " Artículo 203  Efectos: La  resolución  que  declare  la  extinción  por  pérdida  o  retirada  de  las  autorizaciones vigentes fijará el alcance de sus efectos al momento en que se dicten.\n",
      "\n",
      "Procesando el fichero extra\\Rd 1325_2003_boe.json\n",
      "Chunk más grande: 1027 tokens en índice 6\n",
      "Chunk más pequeño: 103 tokens en índice 3\n",
      "Rd 1325_2003.pdf \n",
      " TÍTULO SIN ASIGNAR \n",
      " CAPÍTULO SIN ASIGNAR \n",
      " Sección SIN ASIGNAR \n",
      " Artículo único  Aprobación del Reglamento sobre régimen de protección temporal en caso \n",
      "de afluencia masiva de personas desplazadas: Se  aprueba  el  Reglamento  sobre  régimen  de  protección  temporal  en  caso  de  afluencia masiva de personas desplazadas, cuyo texto se inserta a continuación.\n",
      "\n",
      "Procesando el fichero extra\\rd 220_2022_boe.json\n",
      "Chunk más grande: 959 tokens en índice 27\n",
      "Chunk más pequeño: 88 tokens en índice 47\n",
      "rd 220_2022.pdf \n",
      " TÍTULO III \n",
      " CAPÍTULO II \n",
      " Sección SIN ASIGNAR \n",
      " Artículo 31  Normas de funcionamiento básico de los recursos: Corresponderá a la Dirección General de Gestión del Sistema de Acogida de Protección  Internacional y Temporal la aprobación de las normas básicas de funcionamiento aplicables y  exigibles en todos los recursos del sistema de acogida de protección internacional.\n",
      "\n",
      "Procesando el fichero extra\\rd 240_2007_boe.json\n",
      "Chunk más grande: 1018 tokens en índice 14\n",
      "Chunk más pequeño: 113 tokens en índice 39\n",
      "rd 240_2007.pdf \n",
      " TÍTULO SIN ASIGNAR \n",
      " CAPÍTULO VI \n",
      " Sección SIN ASIGNAR \n",
      " Disposición final quinta  Entrada en vigor: El presente real decreto entrará en vigor al mes de su publicación en el «Boletín Oficial del Estado». Dado en Madrid, el 16 de febrero de 2007. La Vicepresidenta Primera del Gobierno y Ministra de la Presidencia, MARÍA TERESA FERNÁNDEZ DE LA VEGA SANZ JUAN CARLOS R.\n",
      "\n",
      "Procesando el fichero extra\\rd 865_2001_boe.json\n",
      "Chunk más grande: 945 tokens en índice 0\n",
      "Chunk más pequeño: 70 tokens en índice 17\n",
      "rd 865_2001.pdf \n",
      " TÍTULO SIN ASIGNAR \n",
      " CAPÍTULO III \n",
      " Sección SIN ASIGNAR \n",
      " Artículo 12  Obligación general: Todo  apátrida  tendrá  el  deber  de  acatar  la  Constitución  española  y  el  ordenamiento jurídico español.\n",
      "\n",
      "Procesando el fichero extra\\reglamento DP_boe.json\n",
      "Chunk más grande: 815 tokens en índice 12\n",
      "Chunk más pequeño: 61 tokens en índice 42\n",
      "reglamento DP.pdf \n",
      " TÍTULO SIN ASIGNAR \n",
      " CAPÍTULO SIN ASIGNAR \n",
      " Sección SIN ASIGNAR \n",
      " Artículo 42: El régimen de contratación y de adquisición en general en el Defensor del Pueblo será el que rija para las Cortes Generales.\n",
      "\n",
      "Procesando el fichero extra\\Universal_Derechos_Humanos.json\n",
      "Chunk más grande: 454 tokens en índice 5\n",
      "Chunk más pequeño: 375 tokens en índice 6\n",
      "Universal_Derechos_Humanos.pdf \n",
      " Naciones Unidas para el mantenimiento de la paz.\n",
      "3. Los padres tendrán derecho preferente a escoger el tipo de educación que habrá de darse a sus hijos.\n",
      "Artículo 27\n",
      "1. Toda persona tiene derecho a tomar parte libremente en la vida cultural de la comunidad, a gozar de las artes y a\n",
      "participar en el progreso científico y en los beneficios que de él resulten.\n",
      "2. Toda persona tiene derecho a la protección de los intereses morales y materiales que le correspondan por razón de\n",
      "las producciones científicas, literarias o artísticas de que sea autora.\n",
      "Artículo 28\n",
      "Toda persona tiene derecho a que se establezca un orden social e internacional en el que los derechos y libertades\n",
      "proclamados en esta Declaración se hagan plenamente efectivos.\n",
      "Artículo 29\n",
      "1. Toda persona tiene deberes respecto a la comunidad, puesto que sólo en ella puede desarrollar libre y plenamente\n",
      "su personalidad.\n",
      "2. En el ejercicio de sus derechos y en el disfrute de sus libertades, toda persona estará solamente sujeta a las\n",
      "limitaciones establecidas por la ley con el único fin de asegurar el reconocimiento y el respeto de los derechos y\n",
      "libertades de los demás, y de satisfacer las justas exigencias de la moral, del orden público y del bienestar general en\n",
      "una sociedad democrática.\n",
      "3. Estos derechos y libertades no podrán, en ningún caso, ser ejercidos en oposición a los propósitos y principios de\n",
      "las Naciones Unidas.\n",
      "Artículo 30\n",
      "Nada en esta Declaración podrá interpretarse en el sentido de que confiere derecho alguno al Estado, a un grupo o a\n",
      "una persona, para emprender y desarrollar actividades o realizar actos tendientes a la supresión de cualquiera de los\n",
      "derechos y libertades proclamados en esta Declaración.\n",
      "\n",
      "Procesando el fichero orientacion\\HI 108.json\n",
      "Chunk más grande: 1031 tokens en índice 4\n",
      "Chunk más pequeño: 109 tokens en índice 0\n",
      "{'chunk_content': 'Autorización de residencia temporal por circunstancias excepcionales. Arraigo para la formación (HI 108) \\n Tipo de autorización \\n content: \\n Es una autorización de residencia temporal por circunstancias excepcionales que se podrá conceder a ciudadanos extranjeros que se hallen en España y hayan permanecido de forma continuada durante dos años, permitiendo la obtención de una autorización para la realización de una formación, supeditando la obtención de la autorización de residencia y trabajo a la superación de ésta y la presentación de un contrato de trabajo.'}\n",
      "\n",
      "Procesando el fichero orientacion\\HI 35.json\n",
      "Chunk más grande: 593 tokens en índice 4\n",
      "Chunk más pequeño: 65 tokens en índice 0\n",
      "{'chunk_content': 'Autorización de residencia temporal por circunstancias excepcionales. Arraigo laboral (HI 35) \\n Tipo de autorización \\n content: \\n Es una autorización de residencia temporal por circunstancias excepcionales que se podrá conceder a ciudadanos extranjeros que se hallen irregularmente en España y hayan tenido relaciones laborales durante un mínimo de seis meses'}\n",
      "\n",
      "Procesando el fichero orientacion\\HI 36.json\n",
      "Chunk más grande: 1032 tokens en índice 3\n",
      "Chunk más pequeño: 85 tokens en índice 0\n",
      "{'chunk_content': 'Autorización de residencia temporal por circunstancias excepcionales. Arraigo social (HI 36) \\n Tipo de autorización \\n content: \\n Es una autorización de residencia temporal por circunstancias excepcionales que se podrá conceder a ciudadanos extranjeros que se hallen en España durante un periodo mínimo de tres años y cuenten con contrato o contratos de trabajo y, o bien tengan vínculos familiares en España o estén integrados socialmente.'}\n",
      "\n",
      "Procesando el fichero orientacion\\HI 37.json\n",
      "Chunk más grande: 821 tokens en índice 4\n",
      "Chunk más pequeño: 141 tokens en índice 1\n",
      "{'chunk_content': 'Autorización de residencia temporal por circunstancias excepcionales. Arraigo familiar (HI 37) \\n Normativa básica \\n content: \\n Ley Orgánica 4/2000, de 11 de enero, sobre Derechos y Libertades de los Extranjeros en España y su Integración Social (artículo 31.3) Reglamento de la Ley Orgánica 4/2000, aprobado por Real Decreto 557/2011, de 20 de abril (artículos 123 al 130). Instrucciones DGM 8/2020 PDF  sobre la residencia en España de los progenitores, nacionales de terceros países, de menores ciudadanos de la Unión, incluido españoles.'}\n",
      "\n",
      "Procesando el fichero orientacion\\HI 38.json\n",
      "Chunk más grande: 601 tokens en índice 4\n",
      "Chunk más pequeño: 53 tokens en índice 0\n",
      "{'chunk_content': 'Autorización de residencia temporal por circunstancias excepcionales por razones de protección internacional (HI 38) \\n Tipo de autorización \\n content: \\n Es una autorización de\\xa0residencia temporal\\xa0por circunstancias excepcionales que se podrá conceder por razones de protección internacional.'}\n",
      "\n",
      "Procesando el fichero orientacion\\HI 39.json\n",
      "Chunk más grande: 1036 tokens en índice 4\n",
      "Chunk más pequeño: 62 tokens en índice 0\n",
      "{'chunk_content': 'Autorización de residencia temporal por circunstancias excepcionales por razones humanitarias. Incluye anexo de autorización de trabajo (HI 39) \\n Tipo de autorización \\n content: \\n Es una autorización de\\xa0residencia temporal por circunstancias excepcionales\\xa0que se podrá conceder por razones humanitarias.'}\n",
      "\n",
      "Procesando el fichero orientacion\\HI 40.json\n",
      "Chunk más grande: 1051 tokens en índice 4\n",
      "Chunk más pequeño: 87 tokens en índice 0\n",
      "{'chunk_content': 'Autorización de residencia temporal por circunstancias excepcionales por colaboración con autoridades policiales, ﬁscales, judiciales o seguridad nacional. Incluye anexo de Autorización de trabajo (HI 40) \\n Tipo de autorización \\n content: \\n Es una autorización de\\xa0residencia temporal\\xa0por circunstancias excepcionales que se podrá conceder\\xa0por colaboración con autoridades policiales, ﬁscales, policiales o seguridad nacional.'}\n",
      "\n",
      "Procesando el fichero orientacion\\HI 41.json\n",
      "Chunk más grande: 1048 tokens en índice 5\n",
      "Chunk más pequeño: 80 tokens en índice 0\n",
      "{'chunk_content': 'Autorización de residencia temporal por circunstancias excepcionales por colaboración con autoridades administrativas o interés público y colaboración con la administración laboral. Incluye anexo de autorización de trabajo (HI 41) \\n Tipo de autorización \\n content: \\n Es una autorización de residencia temporal por circunstancias excepcionales que se podrá conceder por colaboración con autoridades administrativas o por interés público\\xa0y por colaboración con la administración laboral competente.'}\n",
      "\n",
      "Procesando el fichero orientacion\\HI 42.json\n",
      "Chunk más grande: 1051 tokens en índice 4\n",
      "Chunk más pequeño: 125 tokens en índice 1\n",
      "{'chunk_content': 'Autorización de residencia temporal y trabajo por circunstancias excepcionales de mujeres extranjeras víctimas de violencia de género o de violencia sexual. Incluye anexo de Autorización de trabajo (HI 42) \\n Normativa básica \\n content: \\n Ley Orgánica 4/2000 de 11 de enero, sobre Derechos y Libertades de los Extranjeros en España y su Integración Social (artículo 31 bis). Reglamento de la Ley Orgánica 4/2000, aprobado por Real Decreto 557/2011, de 20 de abril (artículos del 131 al 134).'}\n",
      "\n",
      "Procesando el fichero orientacion\\HI 43.json\n",
      "Chunk más grande: 986 tokens en índice 2\n",
      "Chunk más pequeño: 119 tokens en índice 0\n",
      "{'chunk_content': 'Autorización de residencia temporal y trabajo por circunstancias excepcionales por colaboración con autoridades administrativas no policiales, contra redes organizadas. Incluye anexo de Autorización de trabajo (HI 43) \\n Tipo de autorización \\n content: \\n Es una\\xa0autorización de residencia y trabajo\\xa0por circunstancias excepcionales que podrán obtener los\\xa0extranjeros que estén colaborando con autoridades no policiales y sean víctimas, perjudicados o testigos de un acto de tráﬁco ilícito de mano de obra o de explotación en la prostitución abusando de su situación de necesidad.'}\n",
      "\n",
      "Procesando el fichero orientacion\\HI 44.json\n",
      "Chunk más grande: 994 tokens en índice 2\n",
      "Chunk más pequeño: 115 tokens en índice 1\n",
      "{'chunk_content': 'Autorización de residencia temporal y trabajo por circunstancias excepcionales por colaboración con autoridades policiales, ﬁscales o judiciales, contra redes organizadas (HI 44) \\n Normativa básica \\n content: \\n Ley Orgánica 4/2000 de 11 de enero\\xa0sobre derechos y libertades de los extranjeros en España y su integración social (artículo 59). Reglamento de la Ley Orgánica 4/2000, aprobado por\\xa0Real Decreto 557/2011, de 20 de abril (artículos del 135 al 139).'}\n",
      "\n",
      "Procesando el fichero orientacion\\HI 45.json\n",
      "Chunk más grande: 1044 tokens en índice 2\n",
      "Chunk más pequeño: 112 tokens en índice 0\n",
      "{'chunk_content': 'Autorización de residencia temporal y trabajo por circunstancias excepcionales de extranjeros víctimas de trata de seres humanos. Incluye anexo de retorno asistido (HI 45) \\n Tipo de autorización \\n content: \\n Es una autorización de residencia y trabajo por circunstancias excepcionales que podrán obtener los extranjeros víctimas de trata de seres humanos. Los hijos menores de edad o con discapacidad que se encuentren en España en el momento de la identiﬁcación podrán obtener autorización de residencia, o de residencia y trabajo en el supuesto de ser mayores de dieciséis años.'}\n",
      "\n",
      "Número total de documentos 1281\n"
     ]
    }
   ],
   "source": [
    "all_syllabus_docs = []\n",
    "debug = True\n",
    "for file in boe_files:\n",
    "    tema = file.parent.name\n",
    "    filename = file.name\n",
    "    \n",
    "    syllabus_data = read_json(file)\n",
    "    chunks = list(syllabus_data.values())\n",
    "    \n",
    "    tokens = [get_tokens_len(art if tema != 'orientacion' else art['chunk_content']) for art in chunks]\n",
    "    \n",
    "    if debug:\n",
    "        print(f'Procesando el fichero {str(Path(tema) / filename)}')\n",
    "        print(f'Chunk más grande: {max(tokens)} tokens en índice {np.argmax(tokens)}')\n",
    "        print(f'Chunk más pequeño: {min(tokens)} tokens en índice {np.argmin(tokens)}\\n{chunks[np.argmin(tokens)]}\\n')\n",
    "    syllabus_docs = dict_to_document_boe(estructured_dict=syllabus_data,\n",
    "                                        tema=tema, origen=filename)\n",
    "    all_syllabus_docs.extend(syllabus_docs)\n",
    "    \n",
    "print(f'Número total de documentos {len(all_syllabus_docs)}')\n",
    "    "
   ]
  },
  {
   "cell_type": "code",
   "execution_count": 7,
   "metadata": {},
   "outputs": [],
   "source": [
    "# prefixes = get_all_id_prefixes(index=pc_index, level=1)\n",
    "# prefixes"
   ]
  },
  {
   "cell_type": "code",
   "execution_count": 8,
   "metadata": {},
   "outputs": [],
   "source": [
    "# matches_prefixes = match_prefix(index=pc_index, prefixes={'Código Penal.pdf', 'Codigo_Civil.pdf'})\n",
    "# matches_prefixes"
   ]
  },
  {
   "cell_type": "code",
   "execution_count": 9,
   "metadata": {},
   "outputs": [],
   "source": [
    "# removed_docs = delete_docs_by_id(index=pc_index, prefix='CE.pdf')"
   ]
  },
  {
   "cell_type": "code",
   "execution_count": 10,
   "metadata": {},
   "outputs": [],
   "source": [
    "final_uuids = metadata_to_uuid(all_syllabus_docs)\n",
    "\n",
    "assert len(final_uuids) == len(set(final_uuids)), 'Hay ids duplicados'\n",
    "del final_uuids"
   ]
  },
  {
   "cell_type": "code",
   "execution_count": 11,
   "metadata": {},
   "outputs": [
    {
     "name": "stderr",
     "output_type": "stream",
     "text": [
      "100%|██████████| 1281/1281 [00:12<00:00, 105.70it/s]\n"
     ]
    }
   ],
   "source": [
    "bm25 = BM25Encoder().default()\n",
    "bm25.fit([doc.page_content for doc in all_syllabus_docs])\n",
    "bm25.dump(output_path / 'bm25_values.json')"
   ]
  },
  {
   "cell_type": "code",
   "execution_count": 14,
   "metadata": {},
   "outputs": [],
   "source": [
    "vectors = generate_sparse_vector_in_batches(documents=all_syllabus_docs, embedding_model=embeddings,\n",
    "                                            fitted_bm25=bm25, batch_size=64)\n",
    "upsert_vectors_in_batches(vectors=vectors, index=pc_index, batch_size=100)"
   ]
  }
 ],
 "metadata": {
  "kernelspec": {
   "display_name": "hackaton",
   "language": "python",
   "name": "python3"
  },
  "language_info": {
   "codemirror_mode": {
    "name": "ipython",
    "version": 3
   },
   "file_extension": ".py",
   "mimetype": "text/x-python",
   "name": "python",
   "nbconvert_exporter": "python",
   "pygments_lexer": "ipython3",
   "version": "3.11.11"
  }
 },
 "nbformat": 4,
 "nbformat_minor": 2
}
