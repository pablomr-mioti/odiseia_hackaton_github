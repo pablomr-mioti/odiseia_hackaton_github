{
 "cells": [
  {
   "cell_type": "code",
   "execution_count": 16,
   "metadata": {},
   "outputs": [
    {
     "name": "stdout",
     "output_type": "stream",
     "text": [
      "The autoreload extension is already loaded. To reload it, use:\n",
      "  %reload_ext autoreload\n"
     ]
    }
   ],
   "source": [
    "%load_ext autoreload\n",
    "%autoreload 2\n",
    "\n",
    "import os\n",
    "import sys\n",
    "from pprint import pprint\n",
    "from dotenv import load_dotenv\n",
    "import pathlib\n",
    "# from tqdm import tqdm\n",
    "from tqdm.autonotebook import tqdm\n",
    "from pathlib import Path\n",
    "from pprint import pprint\n",
    "import numpy as np\n",
    "import hashlib\n",
    "\n",
    "import polars as pl\n",
    "from glob import glob\n",
    "\n",
    "from pinecone import Pinecone\n",
    "from langchain_openai import OpenAIEmbeddings\n",
    "\n",
    "from google import genai\n",
    "from google.genai import types\n",
    "from langchain_openai import ChatOpenAI\n",
    "\n",
    "from PIL import Image\n",
    "\n",
    "root_dir = Path(os.getcwd()).parent.parent\n",
    "sys.path.insert(0, str(root_dir))\n",
    "\n",
    "pl.Config.set_fmt_str_lengths(300)\n",
    "pl.Config.set_tbl_rows(100)\n",
    "pl.Config.set_tbl_cols(20);"
   ]
  },
  {
   "cell_type": "code",
   "execution_count": 17,
   "metadata": {},
   "outputs": [],
   "source": [
    "from src.d01_data.data import (read_json, create_index_if_not_exists, json_dump, pdf_to_images)\n",
    "from src.d03_modeling.modeling import get_image_rotation, get_doc_id_from_image, gemini_translate_and_format, openai_translate_and_format\n",
    "from src.d00_utils.utils import get_doc_id_data, campos_to_srt, parse_campos_a_rellenar\n",
    "\n",
    "load_dotenv('../../.env')\n",
    " \n",
    "raw_path = root_dir / 'data' / '01_raw'\n",
    "intermediate_path = root_dir / 'data' / '02_intermediate'\n",
    "clean_path = root_dir / 'data' / '03_clean'\n",
    "output_path = root_dir / 'data' / '04_model_output'"
   ]
  },
  {
   "cell_type": "code",
   "execution_count": 18,
   "metadata": {},
   "outputs": [],
   "source": [
    "OPENAI_API_KEY = os.getenv('OPENAI_API_KEY')\n",
    "OPENAI_MODEL = os.getenv('OPENAI_MODEL')\n",
    "GEMINI_API_KEY = os.getenv('GEMINI_API_KEY')\n",
    "GEMINI_MODEL = os.getenv('GEMINI_MODEL')\n",
    "\n",
    "client = genai.Client(api_key=GEMINI_API_KEY)"
   ]
  },
  {
   "cell_type": "code",
   "execution_count": 19,
   "metadata": {},
   "outputs": [],
   "source": [
    "fotos = sorted(glob(str(raw_path / 'fotos' / 'EX-10' / '*.jpg')))\n",
    "foto = fotos[1]\n",
    "\n",
    "idioma = 'frances'"
   ]
  },
  {
   "cell_type": "code",
   "execution_count": 13,
   "metadata": {},
   "outputs": [
    {
     "name": "stdout",
     "output_type": "stream",
     "text": [
      "Selected rotation: -90º\n"
     ]
    }
   ],
   "source": [
    "rotation = get_image_rotation(client=client, model=GEMINI_MODEL, image_path=foto)\n",
    "foto = Image.open(foto).rotate(rotation)"
   ]
  },
  {
   "cell_type": "code",
   "execution_count": 6,
   "metadata": {},
   "outputs": [],
   "source": [
    "doc_id = get_doc_id_from_image(client=client, model=GEMINI_MODEL, image=foto)"
   ]
  },
  {
   "cell_type": "code",
   "execution_count": null,
   "metadata": {},
   "outputs": [],
   "source": [
    "doc_id_data = get_doc_id_data(doc_id=doc_id.codigo_documento, doc_folder=clean_path / 'formularios')\n",
    "del doc_id_data['Código del documento']"
   ]
  },
  {
   "cell_type": "code",
   "execution_count": 78,
   "metadata": {},
   "outputs": [],
   "source": [
    "traduccion = gemini_translate_and_format(client=client, model=GEMINI_MODEL, language=idioma, texto_a_traducir=doc_id_data['Secciones a rellenar del formulario'])\n",
    "traduccion = traduccion.parsed.traduccion_formateada"
   ]
  },
  {
   "cell_type": "code",
   "execution_count": 82,
   "metadata": {},
   "outputs": [],
   "source": [
    "texts_to_translate = [(idioma, doc_id_data[k]) for k in doc_id_data]\n",
    "traducciones = await openai_translate_and_format(documents=texts_to_translate, model=OPENAI_MODEL)"
   ]
  }
 ],
 "metadata": {
  "kernelspec": {
   "display_name": "hackaton",
   "language": "python",
   "name": "python3"
  },
  "language_info": {
   "codemirror_mode": {
    "name": "ipython",
    "version": 3
   },
   "file_extension": ".py",
   "mimetype": "text/x-python",
   "name": "python",
   "nbconvert_exporter": "python",
   "pygments_lexer": "ipython3",
   "version": "3.11.11"
  }
 },
 "nbformat": 4,
 "nbformat_minor": 2
}
